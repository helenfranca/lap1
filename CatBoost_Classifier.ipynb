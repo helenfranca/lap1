{
  "nbformat": 4,
  "nbformat_minor": 0,
  "metadata": {
    "colab": {
      "name": "CatBoost Classifier.ipynb",
      "provenance": [],
      "collapsed_sections": [
        "SgFJxm49waDS"
      ]
    },
    "kernelspec": {
      "name": "python3",
      "display_name": "Python 3"
    },
    "language_info": {
      "name": "python"
    }
  },
  "cells": [
    {
      "cell_type": "markdown",
      "metadata": {
        "id": "IashrjEMnM4i"
      },
      "source": [
        "Estudo do algoritmo de aprendizagem de máquina: **CatBoostClassifier**\n",
        "\n",
        "Desenvolvido pela empresa Yandex, nomeado o melhor algoritmo comparado ao XGBoost e LightBoost\n",
        "*   Baseado em árvore de decisão\n",
        "*   Predição rápida e eficiente\n",
        "*   \n",
        "\n"
      ]
    },
    {
      "cell_type": "code",
      "metadata": {
        "id": "YmtKHaststQR",
        "colab": {
          "base_uri": "https://localhost:8080/"
        },
        "outputId": "9cddc56f-39d2-429d-f174-ea1d846ee134"
      },
      "source": [
        "pip install catboost"
      ],
      "execution_count": null,
      "outputs": [
        {
          "output_type": "stream",
          "text": [
            "Collecting catboost\n",
            "\u001b[?25l  Downloading https://files.pythonhosted.org/packages/1e/21/d1718eb4c93d6bacdd540b3792187f32ccb1ad9c51b9c4f10875d63ec176/catboost-0.25-cp37-none-manylinux1_x86_64.whl (67.3MB)\n",
            "\u001b[K     |████████████████████████████████| 67.3MB 63kB/s \n",
            "\u001b[?25hRequirement already satisfied: matplotlib in /usr/local/lib/python3.7/dist-packages (from catboost) (3.2.2)\n",
            "Requirement already satisfied: plotly in /usr/local/lib/python3.7/dist-packages (from catboost) (4.4.1)\n",
            "Requirement already satisfied: pandas>=0.24.0 in /usr/local/lib/python3.7/dist-packages (from catboost) (1.1.5)\n",
            "Requirement already satisfied: graphviz in /usr/local/lib/python3.7/dist-packages (from catboost) (0.10.1)\n",
            "Requirement already satisfied: six in /usr/local/lib/python3.7/dist-packages (from catboost) (1.15.0)\n",
            "Requirement already satisfied: numpy>=1.16.0 in /usr/local/lib/python3.7/dist-packages (from catboost) (1.19.5)\n",
            "Requirement already satisfied: scipy in /usr/local/lib/python3.7/dist-packages (from catboost) (1.4.1)\n",
            "Requirement already satisfied: pyparsing!=2.0.4,!=2.1.2,!=2.1.6,>=2.0.1 in /usr/local/lib/python3.7/dist-packages (from matplotlib->catboost) (2.4.7)\n",
            "Requirement already satisfied: cycler>=0.10 in /usr/local/lib/python3.7/dist-packages (from matplotlib->catboost) (0.10.0)\n",
            "Requirement already satisfied: kiwisolver>=1.0.1 in /usr/local/lib/python3.7/dist-packages (from matplotlib->catboost) (1.3.1)\n",
            "Requirement already satisfied: python-dateutil>=2.1 in /usr/local/lib/python3.7/dist-packages (from matplotlib->catboost) (2.8.1)\n",
            "Requirement already satisfied: retrying>=1.3.3 in /usr/local/lib/python3.7/dist-packages (from plotly->catboost) (1.3.3)\n",
            "Requirement already satisfied: pytz>=2017.2 in /usr/local/lib/python3.7/dist-packages (from pandas>=0.24.0->catboost) (2018.9)\n",
            "Installing collected packages: catboost\n",
            "Successfully installed catboost-0.25\n"
          ],
          "name": "stdout"
        }
      ]
    },
    {
      "cell_type": "code",
      "metadata": {
        "id": "nyy_NsIUruvE"
      },
      "source": [
        "import numpy as np\n",
        "from catboost import CatBoostClassifier, Pool\n",
        "import pandas as pd\n",
        "from sklearn.model_selection import cross_val_score\n",
        "from sklearn.model_selection import RepeatedStratifiedKFold"
      ],
      "execution_count": null,
      "outputs": []
    },
    {
      "cell_type": "markdown",
      "metadata": {
        "id": "SgFJxm49waDS"
      },
      "source": [
        "#### Utilizando [exemplo](https://boosting-doc.readthedocs.io/zh_CN/latest/catboost/)"
      ]
    },
    {
      "cell_type": "code",
      "metadata": {
        "id": "qw0xRF3esmWV"
      },
      "source": [
        "train_data = np.random.randint(0, 100, size = (100, 10))"
      ],
      "execution_count": null,
      "outputs": []
    },
    {
      "cell_type": "code",
      "metadata": {
        "id": "aUgBP0qCtAS7"
      },
      "source": [
        "#Dataset - 100 linhas e 10 colunas contendo valores inteiros entre 0 e 100\n",
        "train_data"
      ],
      "execution_count": null,
      "outputs": []
    },
    {
      "cell_type": "code",
      "metadata": {
        "id": "Zwo-pwCAtB1u"
      },
      "source": [
        "train_labels = np.random.randint(0, 2, size = (100))\n"
      ],
      "execution_count": null,
      "outputs": []
    },
    {
      "cell_type": "code",
      "metadata": {
        "id": "Hit3cGvyuwAx"
      },
      "source": [
        "#Labels - Coluna de Classificação - 0 e 1\n",
        "train_labels"
      ],
      "execution_count": null,
      "outputs": []
    },
    {
      "cell_type": "code",
      "metadata": {
        "id": "Wd30TSL7uzvt"
      },
      "source": [
        "test_data = catboost_pool = Pool(train_data, train_labels)"
      ],
      "execution_count": null,
      "outputs": []
    },
    {
      "cell_type": "code",
      "metadata": {
        "id": "wgcJnXqAvaiO"
      },
      "source": [
        "#criando o modelo\n",
        "model = CatBoostClassifier(iterations = 2, depth = 2, learning_rate = 1, loss_function = \"Logloss\", verbose = True)"
      ],
      "execution_count": null,
      "outputs": []
    },
    {
      "cell_type": "code",
      "metadata": {
        "colab": {
          "base_uri": "https://localhost:8080/"
        },
        "id": "3ER8rE2mvbuE",
        "outputId": "5661aeeb-ac99-486b-bdb6-505a11c16034"
      },
      "source": [
        "#treinando o modelo\n",
        "model.fit(train_data, train_labels)"
      ],
      "execution_count": null,
      "outputs": [
        {
          "output_type": "stream",
          "text": [
            "0:\tlearn: 0.6408134\ttotal: 48.5ms\tremaining: 48.5ms\n",
            "1:\tlearn: 0.6280534\ttotal: 48.9ms\tremaining: 0us\n"
          ],
          "name": "stdout"
        },
        {
          "output_type": "execute_result",
          "data": {
            "text/plain": [
              "<catboost.core.CatBoostClassifier at 0x7f998ba06690>"
            ]
          },
          "metadata": {
            "tags": []
          },
          "execution_count": 26
        }
      ]
    },
    {
      "cell_type": "code",
      "metadata": {
        "id": "sysZRbsiwDFP"
      },
      "source": [
        "#predicao usando o modelo\n",
        "y_pred = model.predict(test_data)\n",
        "y_pred_proba = model.predict_proba(test_data)\n",
        "\n",
        "print(\"class = \", y_pred)\n",
        "print(\"proba = \", y_pred_proba)"
      ],
      "execution_count": null,
      "outputs": []
    },
    {
      "cell_type": "markdown",
      "metadata": {
        "id": "gEaPdDrwx_ly"
      },
      "source": [
        "#### Iris"
      ]
    },
    {
      "cell_type": "code",
      "metadata": {
        "id": "_lJP8gRGwP9V"
      },
      "source": [
        "url = 'https://raw.githubusercontent.com/profmoisesomena/escience_and_tools/master/data/iris.csv'\n",
        "names = ['sepal-length','sepal-width', 'petal-length', 'petal-width', 'class']\n",
        "\n",
        "#Dados\n",
        "dataset = pd.read_csv(url,header=0)"
      ],
      "execution_count": null,
      "outputs": []
    },
    {
      "cell_type": "code",
      "metadata": {
        "id": "DciTb9Dk7t6a"
      },
      "source": [
        "dataset.values"
      ],
      "execution_count": null,
      "outputs": []
    },
    {
      "cell_type": "code",
      "metadata": {
        "id": "ZGTp3jhbyGsX"
      },
      "source": [
        "#Labels - Classificação\n",
        "labels = dataset.species.values"
      ],
      "execution_count": null,
      "outputs": []
    },
    {
      "cell_type": "code",
      "metadata": {
        "id": "2MpdcPKH0T5G"
      },
      "source": [
        "#tirando a coluna de classificacao\n",
        "data = dataset.drop(['species'], axis=1).values"
      ],
      "execution_count": null,
      "outputs": []
    },
    {
      "cell_type": "code",
      "metadata": {
        "id": "5u1Ky1g2yL_H"
      },
      "source": [
        "#criando o modelo\n",
        "model_iris = CatBoostClassifier(iterations = 5, depth = 2, learning_rate = 1, loss_function = \"MultiClass\", verbose = True)"
      ],
      "execution_count": null,
      "outputs": []
    },
    {
      "cell_type": "code",
      "metadata": {
        "colab": {
          "base_uri": "https://localhost:8080/"
        },
        "id": "oktvw6XuztMg",
        "outputId": "fcb2ace1-ffb8-47da-8878-da7cc95e1d90"
      },
      "source": [
        "#treinando o modelo\n",
        "model_iris.fit(data, labels)"
      ],
      "execution_count": null,
      "outputs": [
        {
          "output_type": "stream",
          "text": [
            "0:\tlearn: 0.2581534\ttotal: 46.5ms\tremaining: 186ms\n",
            "1:\tlearn: 0.1639388\ttotal: 47.5ms\tremaining: 71.2ms\n",
            "2:\tlearn: 0.1372688\ttotal: 48.1ms\tremaining: 32.1ms\n",
            "3:\tlearn: 0.1224746\ttotal: 48.6ms\tremaining: 12.2ms\n",
            "4:\tlearn: 0.1007498\ttotal: 49.2ms\tremaining: 0us\n"
          ],
          "name": "stdout"
        },
        {
          "output_type": "execute_result",
          "data": {
            "text/plain": [
              "<catboost.core.CatBoostClassifier at 0x7f53569bcd10>"
            ]
          },
          "metadata": {
            "tags": []
          },
          "execution_count": 7
        }
      ]
    },
    {
      "cell_type": "code",
      "metadata": {
        "id": "177GXpMJ3igT"
      },
      "source": [
        "test_data = catboost_pool = Pool(data, labels)"
      ],
      "execution_count": null,
      "outputs": []
    },
    {
      "cell_type": "code",
      "metadata": {
        "id": "EwsPm7-Czzsz"
      },
      "source": [
        "#predicao usando o modelo\n",
        "y_pred = model_iris.predict(test_data)\n",
        "y_prob = model_iris.predict_proba(test_data)\n",
        "print(\"class = \", y_pred)\n",
        "print(\"proba = \", y_prob)"
      ],
      "execution_count": null,
      "outputs": []
    },
    {
      "cell_type": "code",
      "metadata": {
        "colab": {
          "base_uri": "https://localhost:8080/"
        },
        "id": "bGHjZUyE8Adq",
        "outputId": "d7630e98-c4d6-4f24-8d30-81dda22932b2"
      },
      "source": [
        "model_iris.predict([4.9,3.0,1.4,0.2])"
      ],
      "execution_count": null,
      "outputs": [
        {
          "output_type": "execute_result",
          "data": {
            "text/plain": [
              "array(['Iris-setosa'], dtype=object)"
            ]
          },
          "metadata": {
            "tags": []
          },
          "execution_count": 10
        }
      ]
    },
    {
      "cell_type": "code",
      "metadata": {
        "id": "tHpFvGmB5Xqu"
      },
      "source": [
        "dataset['predito'] = y_pred"
      ],
      "execution_count": null,
      "outputs": []
    },
    {
      "cell_type": "code",
      "metadata": {
        "id": "h-0zC6Hd5hGz"
      },
      "source": [
        "dataset.head()"
      ],
      "execution_count": null,
      "outputs": []
    },
    {
      "cell_type": "markdown",
      "metadata": {
        "id": "vqSkhge35xxN"
      },
      "source": [
        "Trabalhando o modelo"
      ]
    },
    {
      "cell_type": "code",
      "metadata": {
        "colab": {
          "base_uri": "https://localhost:8080/"
        },
        "id": "8Vu72O5O5iNB",
        "outputId": "5e2044d4-cc6f-4839-e49f-2ee522f6acf0"
      },
      "source": [
        "n_scores = cross_val_score(model_iris, data, labels, scoring='accuracy', n_jobs=-1, error_score='raise')\n",
        "print('Precisão: %.3f (%.3f)' % (np.mean(n_scores), np.std(n_scores)))"
      ],
      "execution_count": null,
      "outputs": [
        {
          "output_type": "stream",
          "text": [
            "Precisão: 0.960 (0.039)\n"
          ],
          "name": "stdout"
        }
      ]
    },
    {
      "cell_type": "code",
      "metadata": {
        "colab": {
          "base_uri": "https://localhost:8080/"
        },
        "id": "6_uW-oSel-Bb",
        "outputId": "7b793de2-ebbf-43d2-bbdb-fe99da505899"
      },
      "source": [
        "print(model_iris.feature_importances_)"
      ],
      "execution_count": null,
      "outputs": [
        {
          "output_type": "stream",
          "text": [
            "[ 3.67131966  2.83790384 10.40336266 83.08741384]\n"
          ],
          "name": "stdout"
        }
      ]
    },
    {
      "cell_type": "code",
      "metadata": {
        "colab": {
          "base_uri": "https://localhost:8080/"
        },
        "id": "yFVllXTA7ZRF",
        "outputId": "3e61e679-988e-4d59-dd57-6f09567e7b9f"
      },
      "source": [
        "model_iris.predict([5.3, 3.3, 1.0, 0.5])"
      ],
      "execution_count": null,
      "outputs": [
        {
          "output_type": "execute_result",
          "data": {
            "text/plain": [
              "array(['Iris-setosa'], dtype=object)"
            ]
          },
          "metadata": {
            "tags": []
          },
          "execution_count": 35
        }
      ]
    },
    {
      "cell_type": "markdown",
      "metadata": {
        "id": "SiNkfTEypRd6"
      },
      "source": [
        "#### Titanic"
      ]
    },
    {
      "cell_type": "code",
      "metadata": {
        "id": "BgrSOgAXpTbd"
      },
      "source": [
        "url = 'https://raw.githubusercontent.com/helenfranca/lap1/helen/data_titanic.csv'\n",
        "#names = ['sepal-length','sepal-width', 'petal-length', 'petal-width', 'class']\n",
        "\n",
        "#Dados\n",
        "data_titanic = pd.read_csv(url)"
      ],
      "execution_count": null,
      "outputs": []
    },
    {
      "cell_type": "code",
      "metadata": {
        "colab": {
          "base_uri": "https://localhost:8080/",
          "height": 255
        },
        "id": "wIvOLpyowc8J",
        "outputId": "7290b615-fdcb-4abd-e4ab-1c35822343cd"
      },
      "source": [
        "data_titanic.head()"
      ],
      "execution_count": null,
      "outputs": [
        {
          "output_type": "execute_result",
          "data": {
            "text/html": [
              "<div>\n",
              "<style scoped>\n",
              "    .dataframe tbody tr th:only-of-type {\n",
              "        vertical-align: middle;\n",
              "    }\n",
              "\n",
              "    .dataframe tbody tr th {\n",
              "        vertical-align: top;\n",
              "    }\n",
              "\n",
              "    .dataframe thead th {\n",
              "        text-align: right;\n",
              "    }\n",
              "</style>\n",
              "<table border=\"1\" class=\"dataframe\">\n",
              "  <thead>\n",
              "    <tr style=\"text-align: right;\">\n",
              "      <th></th>\n",
              "      <th>Unnamed: 0</th>\n",
              "      <th>PassengerId</th>\n",
              "      <th>Survived</th>\n",
              "      <th>Pclass</th>\n",
              "      <th>Name</th>\n",
              "      <th>Sex</th>\n",
              "      <th>Age</th>\n",
              "      <th>SibSp</th>\n",
              "      <th>Parch</th>\n",
              "      <th>Ticket</th>\n",
              "      <th>Fare</th>\n",
              "      <th>Cabin</th>\n",
              "      <th>Embarked</th>\n",
              "      <th>Title</th>\n",
              "    </tr>\n",
              "  </thead>\n",
              "  <tbody>\n",
              "    <tr>\n",
              "      <th>0</th>\n",
              "      <td>0</td>\n",
              "      <td>1</td>\n",
              "      <td>0</td>\n",
              "      <td>3</td>\n",
              "      <td>Braund, Mr. Owen Harris</td>\n",
              "      <td>male</td>\n",
              "      <td>22.0</td>\n",
              "      <td>1</td>\n",
              "      <td>0</td>\n",
              "      <td>A/5 21171</td>\n",
              "      <td>7.2500</td>\n",
              "      <td>F</td>\n",
              "      <td>S</td>\n",
              "      <td>mr</td>\n",
              "    </tr>\n",
              "    <tr>\n",
              "      <th>1</th>\n",
              "      <td>1</td>\n",
              "      <td>2</td>\n",
              "      <td>1</td>\n",
              "      <td>1</td>\n",
              "      <td>Cumings, Mrs. John Bradley (Florence Briggs Th...</td>\n",
              "      <td>female</td>\n",
              "      <td>38.0</td>\n",
              "      <td>1</td>\n",
              "      <td>0</td>\n",
              "      <td>PC 17599</td>\n",
              "      <td>71.2833</td>\n",
              "      <td>C</td>\n",
              "      <td>C</td>\n",
              "      <td>mrs</td>\n",
              "    </tr>\n",
              "    <tr>\n",
              "      <th>2</th>\n",
              "      <td>2</td>\n",
              "      <td>3</td>\n",
              "      <td>1</td>\n",
              "      <td>3</td>\n",
              "      <td>Heikkinen, Miss. Laina</td>\n",
              "      <td>female</td>\n",
              "      <td>26.0</td>\n",
              "      <td>0</td>\n",
              "      <td>0</td>\n",
              "      <td>STON/O2. 3101282</td>\n",
              "      <td>7.9250</td>\n",
              "      <td>F</td>\n",
              "      <td>S</td>\n",
              "      <td>miss</td>\n",
              "    </tr>\n",
              "    <tr>\n",
              "      <th>3</th>\n",
              "      <td>3</td>\n",
              "      <td>4</td>\n",
              "      <td>1</td>\n",
              "      <td>1</td>\n",
              "      <td>Futrelle, Mrs. Jacques Heath (Lily May Peel)</td>\n",
              "      <td>female</td>\n",
              "      <td>35.0</td>\n",
              "      <td>1</td>\n",
              "      <td>0</td>\n",
              "      <td>113803</td>\n",
              "      <td>53.1000</td>\n",
              "      <td>C</td>\n",
              "      <td>S</td>\n",
              "      <td>mrs</td>\n",
              "    </tr>\n",
              "    <tr>\n",
              "      <th>4</th>\n",
              "      <td>4</td>\n",
              "      <td>5</td>\n",
              "      <td>0</td>\n",
              "      <td>3</td>\n",
              "      <td>Allen, Mr. William Henry</td>\n",
              "      <td>male</td>\n",
              "      <td>35.0</td>\n",
              "      <td>0</td>\n",
              "      <td>0</td>\n",
              "      <td>373450</td>\n",
              "      <td>8.0500</td>\n",
              "      <td>F</td>\n",
              "      <td>S</td>\n",
              "      <td>mr</td>\n",
              "    </tr>\n",
              "  </tbody>\n",
              "</table>\n",
              "</div>"
            ],
            "text/plain": [
              "   Unnamed: 0  PassengerId  Survived  Pclass  ...     Fare Cabin  Embarked  Title\n",
              "0           0            1         0       3  ...   7.2500     F         S     mr\n",
              "1           1            2         1       1  ...  71.2833     C         C    mrs\n",
              "2           2            3         1       3  ...   7.9250     F         S   miss\n",
              "3           3            4         1       1  ...  53.1000     C         S    mrs\n",
              "4           4            5         0       3  ...   8.0500     F         S     mr\n",
              "\n",
              "[5 rows x 14 columns]"
            ]
          },
          "metadata": {
            "tags": []
          },
          "execution_count": 283
        }
      ]
    },
    {
      "cell_type": "code",
      "metadata": {
        "id": "7M6tTZVe0RFz"
      },
      "source": [
        "data_titanic.drop('Unnamed: 0', axis=1, inplace=True)\n",
        "data_titanic.drop('Name', axis=1, inplace=True)\n",
        "data_titanic.drop('PassengerId', axis=1, inplace=True)\n"
      ],
      "execution_count": null,
      "outputs": []
    },
    {
      "cell_type": "code",
      "metadata": {
        "id": "r8BOzmnLCrGk"
      },
      "source": [
        "index = data_titanic[ data_titanic['Embarked'].isnull() ].index\n",
        "data_titanic.drop(index , inplace=True)"
      ],
      "execution_count": null,
      "outputs": []
    },
    {
      "cell_type": "code",
      "metadata": {
        "colab": {
          "base_uri": "https://localhost:8080/",
          "height": 204
        },
        "id": "K2TkmSyj0WMz",
        "outputId": "c0c21f75-911b-4109-e183-4a07e1778437"
      },
      "source": [
        "data_titanic.head()"
      ],
      "execution_count": null,
      "outputs": [
        {
          "output_type": "execute_result",
          "data": {
            "text/html": [
              "<div>\n",
              "<style scoped>\n",
              "    .dataframe tbody tr th:only-of-type {\n",
              "        vertical-align: middle;\n",
              "    }\n",
              "\n",
              "    .dataframe tbody tr th {\n",
              "        vertical-align: top;\n",
              "    }\n",
              "\n",
              "    .dataframe thead th {\n",
              "        text-align: right;\n",
              "    }\n",
              "</style>\n",
              "<table border=\"1\" class=\"dataframe\">\n",
              "  <thead>\n",
              "    <tr style=\"text-align: right;\">\n",
              "      <th></th>\n",
              "      <th>Survived</th>\n",
              "      <th>Pclass</th>\n",
              "      <th>Sex</th>\n",
              "      <th>Age</th>\n",
              "      <th>SibSp</th>\n",
              "      <th>Parch</th>\n",
              "      <th>Ticket</th>\n",
              "      <th>Fare</th>\n",
              "      <th>Cabin</th>\n",
              "      <th>Embarked</th>\n",
              "      <th>Title</th>\n",
              "    </tr>\n",
              "  </thead>\n",
              "  <tbody>\n",
              "    <tr>\n",
              "      <th>0</th>\n",
              "      <td>0</td>\n",
              "      <td>3</td>\n",
              "      <td>male</td>\n",
              "      <td>22.0</td>\n",
              "      <td>1</td>\n",
              "      <td>0</td>\n",
              "      <td>A/5 21171</td>\n",
              "      <td>7.2500</td>\n",
              "      <td>F</td>\n",
              "      <td>S</td>\n",
              "      <td>mr</td>\n",
              "    </tr>\n",
              "    <tr>\n",
              "      <th>1</th>\n",
              "      <td>1</td>\n",
              "      <td>1</td>\n",
              "      <td>female</td>\n",
              "      <td>38.0</td>\n",
              "      <td>1</td>\n",
              "      <td>0</td>\n",
              "      <td>PC 17599</td>\n",
              "      <td>71.2833</td>\n",
              "      <td>C</td>\n",
              "      <td>C</td>\n",
              "      <td>mrs</td>\n",
              "    </tr>\n",
              "    <tr>\n",
              "      <th>2</th>\n",
              "      <td>1</td>\n",
              "      <td>3</td>\n",
              "      <td>female</td>\n",
              "      <td>26.0</td>\n",
              "      <td>0</td>\n",
              "      <td>0</td>\n",
              "      <td>STON/O2. 3101282</td>\n",
              "      <td>7.9250</td>\n",
              "      <td>F</td>\n",
              "      <td>S</td>\n",
              "      <td>miss</td>\n",
              "    </tr>\n",
              "    <tr>\n",
              "      <th>3</th>\n",
              "      <td>1</td>\n",
              "      <td>1</td>\n",
              "      <td>female</td>\n",
              "      <td>35.0</td>\n",
              "      <td>1</td>\n",
              "      <td>0</td>\n",
              "      <td>113803</td>\n",
              "      <td>53.1000</td>\n",
              "      <td>C</td>\n",
              "      <td>S</td>\n",
              "      <td>mrs</td>\n",
              "    </tr>\n",
              "    <tr>\n",
              "      <th>4</th>\n",
              "      <td>0</td>\n",
              "      <td>3</td>\n",
              "      <td>male</td>\n",
              "      <td>35.0</td>\n",
              "      <td>0</td>\n",
              "      <td>0</td>\n",
              "      <td>373450</td>\n",
              "      <td>8.0500</td>\n",
              "      <td>F</td>\n",
              "      <td>S</td>\n",
              "      <td>mr</td>\n",
              "    </tr>\n",
              "  </tbody>\n",
              "</table>\n",
              "</div>"
            ],
            "text/plain": [
              "   Survived  Pclass     Sex   Age  ...     Fare  Cabin Embarked  Title\n",
              "0         0       3    male  22.0  ...   7.2500      F        S     mr\n",
              "1         1       1  female  38.0  ...  71.2833      C        C    mrs\n",
              "2         1       3  female  26.0  ...   7.9250      F        S   miss\n",
              "3         1       1  female  35.0  ...  53.1000      C        S    mrs\n",
              "4         0       3    male  35.0  ...   8.0500      F        S     mr\n",
              "\n",
              "[5 rows x 11 columns]"
            ]
          },
          "metadata": {
            "tags": []
          },
          "execution_count": 286
        }
      ]
    },
    {
      "cell_type": "markdown",
      "metadata": {
        "id": "yetxif0P1G-5"
      },
      "source": [
        "Separando os dados do label\n"
      ]
    },
    {
      "cell_type": "code",
      "metadata": {
        "id": "9Qz-kLf40_Ds"
      },
      "source": [
        "titanic = data_titanic.drop(['Survived'], axis=1).values\n",
        "labels_titanic = data_titanic.Survived.values"
      ],
      "execution_count": null,
      "outputs": []
    },
    {
      "cell_type": "code",
      "metadata": {
        "colab": {
          "base_uri": "https://localhost:8080/"
        },
        "id": "KZmHSDys4z03",
        "outputId": "19a62b44-7378-416a-a445-b7b037585fdf"
      },
      "source": [
        "titanic[0]"
      ],
      "execution_count": null,
      "outputs": [
        {
          "output_type": "execute_result",
          "data": {
            "text/plain": [
              "array([3, 'male', 22.0, 1, 0, 'A/5 21171', 7.25, 'F', 'S', 'mr'],\n",
              "      dtype=object)"
            ]
          },
          "metadata": {
            "tags": []
          },
          "execution_count": 288
        }
      ]
    },
    {
      "cell_type": "markdown",
      "metadata": {
        "id": "XYQxqDUm2BDW"
      },
      "source": [
        "Criando modelo\n"
      ]
    },
    {
      "cell_type": "code",
      "metadata": {
        "id": "ehzUq_aF11cV"
      },
      "source": [
        "model_titanic = CatBoostClassifier( iterations = 10, depth = 2, learning_rate = 1, loss_function = \"Logloss\", verbose = True, cat_features=[1,5,7,8,9])"
      ],
      "execution_count": null,
      "outputs": []
    },
    {
      "cell_type": "code",
      "metadata": {
        "id": "ID2g0ponIv9E"
      },
      "source": [
        "model_titanic2 = CatBoostClassifier(cat_features=[1,5,7,8,9])\n"
      ],
      "execution_count": null,
      "outputs": []
    },
    {
      "cell_type": "markdown",
      "metadata": {
        "id": "t3YVn2OL2WMW"
      },
      "source": [
        "Treinando o modelo"
      ]
    },
    {
      "cell_type": "code",
      "metadata": {
        "colab": {
          "base_uri": "https://localhost:8080/"
        },
        "id": "Bi5VMyxq17Z6",
        "outputId": "6bae7ab0-761f-492e-aa50-35a3710b9791"
      },
      "source": [
        "model_titanic.fit(titanic, labels_titanic)"
      ],
      "execution_count": null,
      "outputs": [
        {
          "output_type": "stream",
          "text": [
            "0:\tlearn: 0.4864554\ttotal: 1.18ms\tremaining: 10.6ms\n",
            "1:\tlearn: 0.4412554\ttotal: 2.55ms\tremaining: 10.2ms\n",
            "2:\tlearn: 0.4257501\ttotal: 3.4ms\tremaining: 7.93ms\n",
            "3:\tlearn: 0.4245040\ttotal: 4.28ms\tremaining: 6.41ms\n",
            "4:\tlearn: 0.4146109\ttotal: 5.17ms\tremaining: 5.17ms\n",
            "5:\tlearn: 0.4084099\ttotal: 5.97ms\tremaining: 3.98ms\n",
            "6:\tlearn: 0.4002254\ttotal: 6.72ms\tremaining: 2.88ms\n",
            "7:\tlearn: 0.3948135\ttotal: 7.54ms\tremaining: 1.89ms\n",
            "8:\tlearn: 0.3895441\ttotal: 8.33ms\tremaining: 925us\n",
            "9:\tlearn: 0.3873966\ttotal: 9.1ms\tremaining: 0us\n"
          ],
          "name": "stdout"
        },
        {
          "output_type": "execute_result",
          "data": {
            "text/plain": [
              "<catboost.core.CatBoostClassifier at 0x7f534f779490>"
            ]
          },
          "metadata": {
            "tags": []
          },
          "execution_count": 202
        }
      ]
    },
    {
      "cell_type": "code",
      "metadata": {
        "id": "LBHdwgzVIznL"
      },
      "source": [
        "model_titanic2.fit(titanic,labels_titanic)"
      ],
      "execution_count": null,
      "outputs": []
    },
    {
      "cell_type": "code",
      "metadata": {
        "id": "weYdGKwJ227B"
      },
      "source": [
        "test_titanic = catboost_pool = Pool(titanic, labels_titanic, cat_features=[1,5,7,8,9])"
      ],
      "execution_count": null,
      "outputs": []
    },
    {
      "cell_type": "code",
      "metadata": {
        "id": "pKjLcgGfEk3g"
      },
      "source": [
        "#predicao usando o modelo\n",
        "y_pred = model_titanic.predict(test_titanic)\n",
        "#print(\"class = \", y_pred)\n"
      ],
      "execution_count": null,
      "outputs": []
    },
    {
      "cell_type": "code",
      "metadata": {
        "id": "J14OsaQSI8ew"
      },
      "source": [
        "y_pred2 = model_titanic2.predict(test_titanic)"
      ],
      "execution_count": null,
      "outputs": []
    },
    {
      "cell_type": "code",
      "metadata": {
        "id": "EcUq0Kl5Fac_"
      },
      "source": [
        "data_titanic[\"sobreviveu\"] = y_pred"
      ],
      "execution_count": null,
      "outputs": []
    },
    {
      "cell_type": "code",
      "metadata": {
        "id": "MLHOaKwGJDGF"
      },
      "source": [
        "data_titanic[\"predito2\"] = y_pred2"
      ],
      "execution_count": null,
      "outputs": []
    },
    {
      "cell_type": "code",
      "metadata": {
        "colab": {
          "base_uri": "https://localhost:8080/",
          "height": 419
        },
        "id": "6lsyJ1efFfMI",
        "outputId": "0203ab6c-692b-4f6b-973a-b4debd2b2f7f"
      },
      "source": [
        "data_titanic"
      ],
      "execution_count": null,
      "outputs": [
        {
          "output_type": "execute_result",
          "data": {
            "text/html": [
              "<div>\n",
              "<style scoped>\n",
              "    .dataframe tbody tr th:only-of-type {\n",
              "        vertical-align: middle;\n",
              "    }\n",
              "\n",
              "    .dataframe tbody tr th {\n",
              "        vertical-align: top;\n",
              "    }\n",
              "\n",
              "    .dataframe thead th {\n",
              "        text-align: right;\n",
              "    }\n",
              "</style>\n",
              "<table border=\"1\" class=\"dataframe\">\n",
              "  <thead>\n",
              "    <tr style=\"text-align: right;\">\n",
              "      <th></th>\n",
              "      <th>Survived</th>\n",
              "      <th>Pclass</th>\n",
              "      <th>Sex</th>\n",
              "      <th>Age</th>\n",
              "      <th>SibSp</th>\n",
              "      <th>Parch</th>\n",
              "      <th>Ticket</th>\n",
              "      <th>Fare</th>\n",
              "      <th>Cabin</th>\n",
              "      <th>Embarked</th>\n",
              "      <th>Title</th>\n",
              "    </tr>\n",
              "  </thead>\n",
              "  <tbody>\n",
              "    <tr>\n",
              "      <th>0</th>\n",
              "      <td>0</td>\n",
              "      <td>3</td>\n",
              "      <td>male</td>\n",
              "      <td>22.000000</td>\n",
              "      <td>1</td>\n",
              "      <td>0</td>\n",
              "      <td>A/5 21171</td>\n",
              "      <td>7.2500</td>\n",
              "      <td>F</td>\n",
              "      <td>S</td>\n",
              "      <td>mr</td>\n",
              "    </tr>\n",
              "    <tr>\n",
              "      <th>1</th>\n",
              "      <td>1</td>\n",
              "      <td>1</td>\n",
              "      <td>female</td>\n",
              "      <td>38.000000</td>\n",
              "      <td>1</td>\n",
              "      <td>0</td>\n",
              "      <td>PC 17599</td>\n",
              "      <td>71.2833</td>\n",
              "      <td>C</td>\n",
              "      <td>C</td>\n",
              "      <td>mrs</td>\n",
              "    </tr>\n",
              "    <tr>\n",
              "      <th>2</th>\n",
              "      <td>1</td>\n",
              "      <td>3</td>\n",
              "      <td>female</td>\n",
              "      <td>26.000000</td>\n",
              "      <td>0</td>\n",
              "      <td>0</td>\n",
              "      <td>STON/O2. 3101282</td>\n",
              "      <td>7.9250</td>\n",
              "      <td>F</td>\n",
              "      <td>S</td>\n",
              "      <td>miss</td>\n",
              "    </tr>\n",
              "    <tr>\n",
              "      <th>3</th>\n",
              "      <td>1</td>\n",
              "      <td>1</td>\n",
              "      <td>female</td>\n",
              "      <td>35.000000</td>\n",
              "      <td>1</td>\n",
              "      <td>0</td>\n",
              "      <td>113803</td>\n",
              "      <td>53.1000</td>\n",
              "      <td>C</td>\n",
              "      <td>S</td>\n",
              "      <td>mrs</td>\n",
              "    </tr>\n",
              "    <tr>\n",
              "      <th>4</th>\n",
              "      <td>0</td>\n",
              "      <td>3</td>\n",
              "      <td>male</td>\n",
              "      <td>35.000000</td>\n",
              "      <td>0</td>\n",
              "      <td>0</td>\n",
              "      <td>373450</td>\n",
              "      <td>8.0500</td>\n",
              "      <td>F</td>\n",
              "      <td>S</td>\n",
              "      <td>mr</td>\n",
              "    </tr>\n",
              "    <tr>\n",
              "      <th>...</th>\n",
              "      <td>...</td>\n",
              "      <td>...</td>\n",
              "      <td>...</td>\n",
              "      <td>...</td>\n",
              "      <td>...</td>\n",
              "      <td>...</td>\n",
              "      <td>...</td>\n",
              "      <td>...</td>\n",
              "      <td>...</td>\n",
              "      <td>...</td>\n",
              "      <td>...</td>\n",
              "    </tr>\n",
              "    <tr>\n",
              "      <th>886</th>\n",
              "      <td>0</td>\n",
              "      <td>2</td>\n",
              "      <td>male</td>\n",
              "      <td>27.000000</td>\n",
              "      <td>0</td>\n",
              "      <td>0</td>\n",
              "      <td>211536</td>\n",
              "      <td>13.0000</td>\n",
              "      <td>F</td>\n",
              "      <td>S</td>\n",
              "      <td>rev</td>\n",
              "    </tr>\n",
              "    <tr>\n",
              "      <th>887</th>\n",
              "      <td>1</td>\n",
              "      <td>1</td>\n",
              "      <td>female</td>\n",
              "      <td>19.000000</td>\n",
              "      <td>0</td>\n",
              "      <td>0</td>\n",
              "      <td>112053</td>\n",
              "      <td>30.0000</td>\n",
              "      <td>B</td>\n",
              "      <td>S</td>\n",
              "      <td>miss</td>\n",
              "    </tr>\n",
              "    <tr>\n",
              "      <th>888</th>\n",
              "      <td>0</td>\n",
              "      <td>3</td>\n",
              "      <td>female</td>\n",
              "      <td>21.773973</td>\n",
              "      <td>1</td>\n",
              "      <td>2</td>\n",
              "      <td>W./C. 6607</td>\n",
              "      <td>23.4500</td>\n",
              "      <td>F</td>\n",
              "      <td>S</td>\n",
              "      <td>miss</td>\n",
              "    </tr>\n",
              "    <tr>\n",
              "      <th>889</th>\n",
              "      <td>1</td>\n",
              "      <td>1</td>\n",
              "      <td>male</td>\n",
              "      <td>26.000000</td>\n",
              "      <td>0</td>\n",
              "      <td>0</td>\n",
              "      <td>111369</td>\n",
              "      <td>30.0000</td>\n",
              "      <td>C</td>\n",
              "      <td>C</td>\n",
              "      <td>mr</td>\n",
              "    </tr>\n",
              "    <tr>\n",
              "      <th>890</th>\n",
              "      <td>0</td>\n",
              "      <td>3</td>\n",
              "      <td>male</td>\n",
              "      <td>32.000000</td>\n",
              "      <td>0</td>\n",
              "      <td>0</td>\n",
              "      <td>370376</td>\n",
              "      <td>7.7500</td>\n",
              "      <td>F</td>\n",
              "      <td>Q</td>\n",
              "      <td>mr</td>\n",
              "    </tr>\n",
              "  </tbody>\n",
              "</table>\n",
              "<p>889 rows × 11 columns</p>\n",
              "</div>"
            ],
            "text/plain": [
              "     Survived  Pclass     Sex        Age  ...     Fare  Cabin Embarked  Title\n",
              "0           0       3    male  22.000000  ...   7.2500      F        S     mr\n",
              "1           1       1  female  38.000000  ...  71.2833      C        C    mrs\n",
              "2           1       3  female  26.000000  ...   7.9250      F        S   miss\n",
              "3           1       1  female  35.000000  ...  53.1000      C        S    mrs\n",
              "4           0       3    male  35.000000  ...   8.0500      F        S     mr\n",
              "..        ...     ...     ...        ...  ...      ...    ...      ...    ...\n",
              "886         0       2    male  27.000000  ...  13.0000      F        S    rev\n",
              "887         1       1  female  19.000000  ...  30.0000      B        S   miss\n",
              "888         0       3  female  21.773973  ...  23.4500      F        S   miss\n",
              "889         1       1    male  26.000000  ...  30.0000      C        C     mr\n",
              "890         0       3    male  32.000000  ...   7.7500      F        Q     mr\n",
              "\n",
              "[889 rows x 11 columns]"
            ]
          },
          "metadata": {
            "tags": []
          },
          "execution_count": 289
        }
      ]
    },
    {
      "cell_type": "code",
      "metadata": {
        "colab": {
          "base_uri": "https://localhost:8080/"
        },
        "id": "QNtInSkdLaZM",
        "outputId": "eceb97ca-5a0d-4025-d44f-7bdc8759cd1a"
      },
      "source": [
        "\n",
        "index2 = data_titanic[ data_titanic['Survived'] != data_titanic['sobreviveu'] ].index\n",
        "index3 = data_titanic[ data_titanic['Survived'] != data_titanic['predito2'] ].index\n",
        "\n",
        "print(\"Comparando diferença de acertos entre as predições\")\n",
        "print(\"Sobreviveu x Survived: \", index2.size)\n",
        "print(\"Survived x Predito2: \", index3.size)\n"
      ],
      "execution_count": null,
      "outputs": [
        {
          "output_type": "stream",
          "text": [
            "Comparando diferença de acertos entre as predições\n",
            "Sobreviveu x Survived:  89\n",
            "Survived x Predito2:  74\n"
          ],
          "name": "stdout"
        }
      ]
    },
    {
      "cell_type": "markdown",
      "metadata": {
        "id": "a_qJ0QjiNLvM"
      },
      "source": [
        "Ao que parece a configuração padrão do modelo deu um resultado mais perto do esperado. Com uma qtd de erros menor."
      ]
    },
    {
      "cell_type": "code",
      "metadata": {
        "colab": {
          "base_uri": "https://localhost:8080/"
        },
        "id": "9wxH51NyFhCo",
        "outputId": "a1e701f2-0118-4910-ef0e-f93d4641546b"
      },
      "source": [
        "n_scores = cross_val_score(model_titanic, titanic, labels_titanic, scoring='accuracy', n_jobs=-1, error_score='raise')\n",
        "print('Precisão: %.3f (%.3f)' % (np.mean(n_scores), np.std(n_scores)))"
      ],
      "execution_count": null,
      "outputs": [
        {
          "output_type": "stream",
          "text": [
            "Precisão: 0.826 (0.010)\n"
          ],
          "name": "stdout"
        }
      ]
    },
    {
      "cell_type": "code",
      "metadata": {
        "colab": {
          "base_uri": "https://localhost:8080/"
        },
        "id": "9_wH3eSQJJcw",
        "outputId": "007d0b63-0fae-41d7-bb1f-9a521457f7f2"
      },
      "source": [
        "n_scores = cross_val_score(model_titanic2, titanic, labels_titanic, scoring='accuracy', n_jobs=-1, error_score='raise')\n",
        "print('Precisão: %.3f (%.3f)' % (np.mean(n_scores), np.std(n_scores)))"
      ],
      "execution_count": null,
      "outputs": [
        {
          "output_type": "stream",
          "text": [
            "Precisão: 0.826 (0.017)\n"
          ],
          "name": "stdout"
        }
      ]
    },
    {
      "cell_type": "code",
      "metadata": {
        "id": "CsyLpbQeaD4T"
      },
      "source": [
        ""
      ],
      "execution_count": null,
      "outputs": []
    },
    {
      "cell_type": "code",
      "metadata": {
        "colab": {
          "base_uri": "https://localhost:8080/"
        },
        "id": "1-HDwyY-F3LI",
        "outputId": "c2c7d7d2-1839-4c1b-8484-d2ddca2390e6"
      },
      "source": [
        "model_titanic.predict([2, 'female', 30.0, 1, 0, 'A/5 21171', 7.25, 'F', 'S', 'mrs'])"
      ],
      "execution_count": null,
      "outputs": [
        {
          "output_type": "execute_result",
          "data": {
            "text/plain": [
              "1"
            ]
          },
          "metadata": {
            "tags": []
          },
          "execution_count": 246
        }
      ]
    },
    {
      "cell_type": "code",
      "metadata": {
        "colab": {
          "base_uri": "https://localhost:8080/"
        },
        "id": "-FbtxNV7HhtR",
        "outputId": "5e7e878e-6f28-4f46-d349-bc6fce30481f"
      },
      "source": [
        "model_titanic2.predict([2, 'female', 30.0, 1, 0, 'A/5 21171', 7.25, 'F', 'S', 'mrs'])"
      ],
      "execution_count": null,
      "outputs": [
        {
          "output_type": "execute_result",
          "data": {
            "text/plain": [
              "1"
            ]
          },
          "metadata": {
            "tags": []
          },
          "execution_count": 270
        }
      ]
    },
    {
      "cell_type": "markdown",
      "metadata": {
        "id": "ZxuJbBEdcin8"
      },
      "source": [
        "Alguns Testes Extras e Aleatórios"
      ]
    },
    {
      "cell_type": "code",
      "metadata": {
        "id": "rhWkFBvvXyCt"
      },
      "source": [
        "\n",
        "import sklearn\n",
        "from sklearn.model_selection import train_test_split\n",
        "from sklearn.model_selection import cross_val_score\n",
        "from sklearn.model_selection import StratifiedKFold\n",
        "from sklearn.metrics import classification_report\n",
        "from sklearn.metrics import confusion_matrix\n",
        "from sklearn.metrics import accuracy_score\n",
        "from sklearn.linear_model import LogisticRegression"
      ],
      "execution_count": null,
      "outputs": []
    },
    {
      "cell_type": "code",
      "metadata": {
        "id": "z3HjSt2uXx-F"
      },
      "source": [
        "array = data_titanic.values\n",
        "X = array[:,1:]\n",
        "y = array[:,:1]\n",
        "X_train, X_validation, Y_train, Y_validation = train_test_split(X, y, test_size=0.25, random_state=0, shuffle=True)\n",
        "\n",
        "model = CatBoostClassifier(cat_features=[1,5,7,8,9])\n",
        "model.fit(X_train, Y_train)\n",
        "\n",
        "predictions_train = model.predict(X_train)\n",
        "predictions_validation = model.predict(X_validation)\n",
        "\n",
        "print(sklearn.metrics.accuracy_score(Y_train, predictions_train))\n",
        "print(sklearn.metrics.accuracy_score(Y_validation, predictions_validation))"
      ],
      "execution_count": null,
      "outputs": []
    },
    {
      "cell_type": "code",
      "metadata": {
        "id": "Dugon_DxXx7Y"
      },
      "source": [
        ""
      ],
      "execution_count": null,
      "outputs": []
    }
  ]
}