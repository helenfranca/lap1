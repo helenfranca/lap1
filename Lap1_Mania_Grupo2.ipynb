{
 "cells": [
  {
   "cell_type": "markdown",
   "metadata": {},
   "source": [
    "# Trabalho Laboratório de Pesquisa 1: Dataset Mania"
   ]
  },
  {
   "cell_type": "markdown",
   "metadata": {},
   "source": [
    "## 1. Componentes"
   ]
  },
  {
   "cell_type": "markdown",
   "metadata": {},
   "source": [
    "Integrantes do grupo: <br>\n",
    "Helen França Medeiros: helenfranca93@gmail.com <br>\n",
    "Mayke Willans Christo Pereira: maykewillans@hotmail.com <br>\n",
    "Lia Casati: liac.ramaldes@gmail.com"
   ]
  },
  {
   "cell_type": "markdown",
   "metadata": {},
   "source": [
    "## 2. Apresentação do Dataset"
   ]
  },
  {
   "cell_type": "markdown",
   "metadata": {},
   "source": [
    "### Visão  geral\n",
    "\n",
    "#### Descrição da base\n",
    "\n",
    "A mania é caracterizada por humor eufórico, redução do sono, aumento da energia e interesse em diversos objetivos/projetos ao mesmo tempo, assim como aumento da libido e inquietação. Durante os episódios de mania, o pensamento torna-se muito rápido, podendo prejudicar a formação de ideias e a comunicação, o que faz com que a pessoa transmita ideias delirantes, que muitas vezes fogem da realidade.\n",
    "\n",
    "O dataset Mania possui dados como histórico médico, informações sobre sentimentos e acontecimentos da vida pessoal dos entrevistados.\n",
    "\n",
    "#### Objetivo\n",
    "\n",
    "O intuito desta trabalho é fazer uma análise sobre quais variáveis tiveram maior influência na probabilidade de diagnósticos positivos, ou seja, que tipo de pessoa teve mais chance de apresentar episódios de mania."
   ]
  },
  {
   "cell_type": "markdown",
   "metadata": {},
   "source": [
    "**Quais são os tipos de atributos existentes e qual é o atributo alvo?**\n",
    "\n",
    "Analisando o codebook, acreditamos que o dataset Mania é dividido em 3 grupos:\n",
    "   1. M: informações/caracteristicas relacionadas ao transtorno comum mania\n",
    "        - Exemplos: a coluna M7d responde sobre \"ter comportamento inapropriado\", onde as respostas são 1(sim), 5(não), 8(não sabe) e 9(recusou)\n",
    "     \n",
    "     \n",
    "   2. SC: informações de sentimentos e/ou acontecimentos das pessoas entrevistadas\n",
    "        - Exemplos: a coluna SC31 responde sobre \"ter forte medo de multidões/lugares públicos\", onde as respostas são 1(sim), 5(não), 8(não sabe)\n",
    "        \n",
    "        \n",
    "   3. CC: histórico médico das pessoas entrevistadas\n",
    "        - Exemplos: a coluna CC1B responde sobre \"ter problemas nas costas ou no pescoço\", onde as respostas são 1(sim), 5(não), 8(não sabe)\n",
    "        \n",
    "        \n",
    "Desses atributos, temos diversos dados, sendo os tipos mais comuns:\n",
    "- Dados nominais:\n",
    "    - Exemplo: Tem problemas nas costas ou no pescoço? Resp.: 1(sim), 5(não), 8(não sabe) e 9(recusou)\n",
    "- Dados discretos:\n",
    "    - Exemplo: Qual a sua idade? Resp.: 18\n",
    "- Dados binários\n",
    "    - Exemplo: Tem medo de insetos/animais? Resp.: 1(sim) ou 5(não)\n",
    "     \n",
    "     \n",
    "Atributo alvo:\n",
    "- Para descobrir o atributo alvo, analisamos as colunas e achamos que possívelmente a coluna \"dsm_man\" seria uma candidata\n",
    "    * A coluna \"dsm_man\" não possui valores nulos\n",
    "    * Um possível significado de dsm é \"Manual Diagnóstico e Estatístico de Transtornos Mentais\"\n",
    "    * Supondo que \"man\" signifique mania\n",
    "    * O atributo alvo é a coluna **dsm_man**\n",
    "\n",
    "**Quais são os problemas existentes?**\n",
    "- Grande quantidade de valores ausentes;\n",
    "- Registros sem significados ou informação relevante;\n",
    "    - Exemplo: CC50C - Você está atualmente coberto por algum dos seguintes...\n",
    "- Inconsistencia: existem colunas que se complementam, mas são interpretadas de forma diferente;\n",
    "    - Exemplo: M6B1 (duração do episódio sendo muito irritável que se destaca) e M6B2 (Unidade de tempo), assim poderíamos ter: 2 dias, 2 meses, 2 anos, etc.\n",
    "- Atributo alvo possui muitos valores de uma classe e poucos de outra;\n",
    "\n",
    "\n",
    "**Qualidade e clareza: garantir que a semântica dos atributos seja clara (nomes coerentes com os dados, se necessário renomear atributos).**"
   ]
  },
  {
   "cell_type": "markdown",
   "metadata": {},
   "source": [
    "### Visualização do Dataset"
   ]
  },
  {
   "cell_type": "markdown",
   "metadata": {},
   "source": [
    "#### Carregar Bibliotecas"
   ]
  },
  {
   "cell_type": "code",
   "execution_count": 1,
   "metadata": {},
   "outputs": [],
   "source": [
    "import jupyter\n",
    "import sklearn\n",
    "import scipy\n",
    "import matplotlib\n",
    "import numpy\n",
    "import pandas as pd\n",
    "import sys\n",
    "import seaborn as sns\n",
    "import sweetviz as sv\n",
    " \n",
    "#from pandas.plotting import scatter_matrix\n",
    "from sklearn.model_selection import train_test_split\n",
    "from sklearn.model_selection import cross_val_score\n",
    "from sklearn.model_selection import StratifiedKFold\n",
    "from sklearn.metrics import classification_report\n",
    "from sklearn.metrics import confusion_matrix\n",
    "from sklearn.metrics import accuracy_score\n",
    "from sklearn.linear_model import LogisticRegression\n",
    "from sklearn.tree import DecisionTreeClassifier\n",
    "from sklearn.neighbors import KNeighborsClassifier\n",
    "from sklearn.discriminant_analysis import LinearDiscriminantAnalysis\n",
    "from sklearn.naive_bayes import GaussianNB\n",
    "from sklearn.svm import SVC\n",
    "from matplotlib import pyplot\n",
    "from pandas_profiling import ProfileReport\n"
   ]
  },
  {
   "cell_type": "markdown",
   "metadata": {},
   "source": [
    "#### Carregar Dataset"
   ]
  },
  {
   "cell_type": "code",
   "execution_count": 2,
   "metadata": {},
   "outputs": [],
   "source": [
    "dataset = pd.read_csv('C:\\Estudo\\DisciplinasLab\\Mania\\Variaveis_Mania+SC+CC.csv', sep=\",\")"
   ]
  },
  {
   "cell_type": "markdown",
   "metadata": {},
   "source": [
    "#### Exibindo dataset"
   ]
  },
  {
   "cell_type": "code",
   "execution_count": 7,
   "metadata": {},
   "outputs": [
    {
     "data": {
      "text/html": [
       "<div>\n",
       "<style scoped>\n",
       "    .dataframe tbody tr th:only-of-type {\n",
       "        vertical-align: middle;\n",
       "    }\n",
       "\n",
       "    .dataframe tbody tr th {\n",
       "        vertical-align: top;\n",
       "    }\n",
       "\n",
       "    .dataframe thead th {\n",
       "        text-align: right;\n",
       "    }\n",
       "</style>\n",
       "<table border=\"1\" class=\"dataframe\">\n",
       "  <thead>\n",
       "    <tr style=\"text-align: right;\">\n",
       "      <th></th>\n",
       "      <th>M1</th>\n",
       "      <th>M1A</th>\n",
       "      <th>M3</th>\n",
       "      <th>M3A</th>\n",
       "      <th>M3B1</th>\n",
       "      <th>M3B2</th>\n",
       "      <th>M3C</th>\n",
       "      <th>M3D1</th>\n",
       "      <th>M3D2</th>\n",
       "      <th>M4</th>\n",
       "      <th>...</th>\n",
       "      <th>CC50B</th>\n",
       "      <th>CC50C</th>\n",
       "      <th>CC50D</th>\n",
       "      <th>CC50E</th>\n",
       "      <th>CC50I</th>\n",
       "      <th>CC51</th>\n",
       "      <th>CC52</th>\n",
       "      <th>CC53</th>\n",
       "      <th>CC54</th>\n",
       "      <th>CC55</th>\n",
       "    </tr>\n",
       "  </thead>\n",
       "  <tbody>\n",
       "    <tr>\n",
       "      <th>0</th>\n",
       "      <td>9.0</td>\n",
       "      <td>1.0</td>\n",
       "      <td>NaN</td>\n",
       "      <td>NaN</td>\n",
       "      <td>NaN</td>\n",
       "      <td>NaN</td>\n",
       "      <td>NaN</td>\n",
       "      <td>NaN</td>\n",
       "      <td>NaN</td>\n",
       "      <td>NaN</td>\n",
       "      <td>...</td>\n",
       "      <td>5</td>\n",
       "      <td>5</td>\n",
       "      <td>5</td>\n",
       "      <td>5</td>\n",
       "      <td>5</td>\n",
       "      <td>1</td>\n",
       "      <td>1</td>\n",
       "      <td>4</td>\n",
       "      <td>80</td>\n",
       "      <td>20</td>\n",
       "    </tr>\n",
       "    <tr>\n",
       "      <th>1</th>\n",
       "      <td>5.0</td>\n",
       "      <td>1.0</td>\n",
       "      <td>NaN</td>\n",
       "      <td>NaN</td>\n",
       "      <td>NaN</td>\n",
       "      <td>NaN</td>\n",
       "      <td>NaN</td>\n",
       "      <td>NaN</td>\n",
       "      <td>NaN</td>\n",
       "      <td>NaN</td>\n",
       "      <td>...</td>\n",
       "      <td>5</td>\n",
       "      <td>5</td>\n",
       "      <td>5</td>\n",
       "      <td>1</td>\n",
       "      <td>5</td>\n",
       "      <td>1</td>\n",
       "      <td>4</td>\n",
       "      <td>4</td>\n",
       "      <td>5</td>\n",
       "      <td>0</td>\n",
       "    </tr>\n",
       "    <tr>\n",
       "      <th>2</th>\n",
       "      <td>5.0</td>\n",
       "      <td>1.0</td>\n",
       "      <td>NaN</td>\n",
       "      <td>NaN</td>\n",
       "      <td>NaN</td>\n",
       "      <td>NaN</td>\n",
       "      <td>NaN</td>\n",
       "      <td>NaN</td>\n",
       "      <td>NaN</td>\n",
       "      <td>NaN</td>\n",
       "      <td>...</td>\n",
       "      <td>5</td>\n",
       "      <td>5</td>\n",
       "      <td>5</td>\n",
       "      <td>5</td>\n",
       "      <td>5</td>\n",
       "      <td>1</td>\n",
       "      <td>1</td>\n",
       "      <td>4</td>\n",
       "      <td>90</td>\n",
       "      <td>10</td>\n",
       "    </tr>\n",
       "    <tr>\n",
       "      <th>3</th>\n",
       "      <td>5.0</td>\n",
       "      <td>1.0</td>\n",
       "      <td>NaN</td>\n",
       "      <td>NaN</td>\n",
       "      <td>NaN</td>\n",
       "      <td>NaN</td>\n",
       "      <td>NaN</td>\n",
       "      <td>NaN</td>\n",
       "      <td>NaN</td>\n",
       "      <td>NaN</td>\n",
       "      <td>...</td>\n",
       "      <td>5</td>\n",
       "      <td>5</td>\n",
       "      <td>5</td>\n",
       "      <td>5</td>\n",
       "      <td>5</td>\n",
       "      <td>1</td>\n",
       "      <td>1</td>\n",
       "      <td>4</td>\n",
       "      <td>80</td>\n",
       "      <td>0</td>\n",
       "    </tr>\n",
       "    <tr>\n",
       "      <th>4</th>\n",
       "      <td>5.0</td>\n",
       "      <td>1.0</td>\n",
       "      <td>NaN</td>\n",
       "      <td>NaN</td>\n",
       "      <td>NaN</td>\n",
       "      <td>NaN</td>\n",
       "      <td>NaN</td>\n",
       "      <td>NaN</td>\n",
       "      <td>NaN</td>\n",
       "      <td>NaN</td>\n",
       "      <td>...</td>\n",
       "      <td>1</td>\n",
       "      <td>5</td>\n",
       "      <td>5</td>\n",
       "      <td>5</td>\n",
       "      <td>5</td>\n",
       "      <td>1</td>\n",
       "      <td>1</td>\n",
       "      <td>4</td>\n",
       "      <td>80</td>\n",
       "      <td>1</td>\n",
       "    </tr>\n",
       "  </tbody>\n",
       "</table>\n",
       "<p>5 rows × 229 columns</p>\n",
       "</div>"
      ],
      "text/plain": [
       "    M1  M1A  M3  M3A  M3B1  M3B2  M3C  M3D1  M3D2  M4  ...  CC50B  CC50C  \\\n",
       "0  9.0  1.0 NaN  NaN   NaN   NaN  NaN   NaN   NaN NaN  ...      5      5   \n",
       "1  5.0  1.0 NaN  NaN   NaN   NaN  NaN   NaN   NaN NaN  ...      5      5   \n",
       "2  5.0  1.0 NaN  NaN   NaN   NaN  NaN   NaN   NaN NaN  ...      5      5   \n",
       "3  5.0  1.0 NaN  NaN   NaN   NaN  NaN   NaN   NaN NaN  ...      5      5   \n",
       "4  5.0  1.0 NaN  NaN   NaN   NaN  NaN   NaN   NaN NaN  ...      1      5   \n",
       "\n",
       "   CC50D  CC50E  CC50I  CC51  CC52  CC53  CC54  CC55  \n",
       "0      5      5      5     1     1     4    80    20  \n",
       "1      5      1      5     1     4     4     5     0  \n",
       "2      5      5      5     1     1     4    90    10  \n",
       "3      5      5      5     1     1     4    80     0  \n",
       "4      5      5      5     1     1     4    80     1  \n",
       "\n",
       "[5 rows x 229 columns]"
      ]
     },
     "execution_count": 7,
     "metadata": {},
     "output_type": "execute_result"
    }
   ],
   "source": [
    "dataset.head()"
   ]
  },
  {
   "cell_type": "markdown",
   "metadata": {},
   "source": [
    "## 3. Pré-processamento do Dataset"
   ]
  },
  {
   "cell_type": "markdown",
   "metadata": {},
   "source": [
    "#### Verificar nulos no dataset"
   ]
  },
  {
   "cell_type": "code",
   "execution_count": 8,
   "metadata": {},
   "outputs": [
    {
     "data": {
      "text/html": [
       "<div>\n",
       "<style scoped>\n",
       "    .dataframe tbody tr th:only-of-type {\n",
       "        vertical-align: middle;\n",
       "    }\n",
       "\n",
       "    .dataframe tbody tr th {\n",
       "        vertical-align: top;\n",
       "    }\n",
       "\n",
       "    .dataframe thead th {\n",
       "        text-align: right;\n",
       "    }\n",
       "</style>\n",
       "<table border=\"1\" class=\"dataframe\">\n",
       "  <thead>\n",
       "    <tr style=\"text-align: right;\">\n",
       "      <th></th>\n",
       "      <th>count</th>\n",
       "      <th>mean</th>\n",
       "      <th>std</th>\n",
       "      <th>min</th>\n",
       "      <th>25%</th>\n",
       "      <th>50%</th>\n",
       "      <th>75%</th>\n",
       "      <th>max</th>\n",
       "      <th>nulos</th>\n",
       "      <th>prct_nulo</th>\n",
       "      <th>type</th>\n",
       "    </tr>\n",
       "  </thead>\n",
       "  <tbody>\n",
       "    <tr>\n",
       "      <th>M1</th>\n",
       "      <td>128.0</td>\n",
       "      <td>2.343750</td>\n",
       "      <td>1.961991</td>\n",
       "      <td>1.0</td>\n",
       "      <td>1.0</td>\n",
       "      <td>1.0</td>\n",
       "      <td>5.0</td>\n",
       "      <td>9.0</td>\n",
       "      <td>4909</td>\n",
       "      <td>97.46</td>\n",
       "      <td>float64</td>\n",
       "    </tr>\n",
       "    <tr>\n",
       "      <th>M1A</th>\n",
       "      <td>42.0</td>\n",
       "      <td>1.666667</td>\n",
       "      <td>0.477119</td>\n",
       "      <td>1.0</td>\n",
       "      <td>1.0</td>\n",
       "      <td>2.0</td>\n",
       "      <td>2.0</td>\n",
       "      <td>2.0</td>\n",
       "      <td>4995</td>\n",
       "      <td>99.17</td>\n",
       "      <td>float64</td>\n",
       "    </tr>\n",
       "    <tr>\n",
       "      <th>M3</th>\n",
       "      <td>86.0</td>\n",
       "      <td>2.383721</td>\n",
       "      <td>1.977334</td>\n",
       "      <td>1.0</td>\n",
       "      <td>1.0</td>\n",
       "      <td>1.0</td>\n",
       "      <td>5.0</td>\n",
       "      <td>8.0</td>\n",
       "      <td>4951</td>\n",
       "      <td>98.29</td>\n",
       "      <td>float64</td>\n",
       "    </tr>\n",
       "    <tr>\n",
       "      <th>M3A</th>\n",
       "      <td>57.0</td>\n",
       "      <td>94.245614</td>\n",
       "      <td>250.709798</td>\n",
       "      <td>12.0</td>\n",
       "      <td>19.0</td>\n",
       "      <td>26.0</td>\n",
       "      <td>36.0</td>\n",
       "      <td>998.0</td>\n",
       "      <td>4980</td>\n",
       "      <td>98.87</td>\n",
       "      <td>float64</td>\n",
       "    </tr>\n",
       "    <tr>\n",
       "      <th>M3B1</th>\n",
       "      <td>57.0</td>\n",
       "      <td>93.157895</td>\n",
       "      <td>283.180961</td>\n",
       "      <td>1.0</td>\n",
       "      <td>2.0</td>\n",
       "      <td>4.0</td>\n",
       "      <td>8.0</td>\n",
       "      <td>998.0</td>\n",
       "      <td>4980</td>\n",
       "      <td>98.87</td>\n",
       "      <td>float64</td>\n",
       "    </tr>\n",
       "    <tr>\n",
       "      <th>...</th>\n",
       "      <td>...</td>\n",
       "      <td>...</td>\n",
       "      <td>...</td>\n",
       "      <td>...</td>\n",
       "      <td>...</td>\n",
       "      <td>...</td>\n",
       "      <td>...</td>\n",
       "      <td>...</td>\n",
       "      <td>...</td>\n",
       "      <td>...</td>\n",
       "      <td>...</td>\n",
       "    </tr>\n",
       "    <tr>\n",
       "      <th>CC51</th>\n",
       "      <td>5037.0</td>\n",
       "      <td>1.530673</td>\n",
       "      <td>1.044912</td>\n",
       "      <td>1.0</td>\n",
       "      <td>1.0</td>\n",
       "      <td>1.0</td>\n",
       "      <td>2.0</td>\n",
       "      <td>8.0</td>\n",
       "      <td>0</td>\n",
       "      <td>0.00</td>\n",
       "      <td>int64</td>\n",
       "    </tr>\n",
       "    <tr>\n",
       "      <th>CC52</th>\n",
       "      <td>5037.0</td>\n",
       "      <td>1.792535</td>\n",
       "      <td>1.207617</td>\n",
       "      <td>1.0</td>\n",
       "      <td>1.0</td>\n",
       "      <td>1.0</td>\n",
       "      <td>2.0</td>\n",
       "      <td>9.0</td>\n",
       "      <td>0</td>\n",
       "      <td>0.00</td>\n",
       "      <td>int64</td>\n",
       "    </tr>\n",
       "    <tr>\n",
       "      <th>CC53</th>\n",
       "      <td>5037.0</td>\n",
       "      <td>3.573556</td>\n",
       "      <td>0.977507</td>\n",
       "      <td>1.0</td>\n",
       "      <td>3.0</td>\n",
       "      <td>4.0</td>\n",
       "      <td>4.0</td>\n",
       "      <td>9.0</td>\n",
       "      <td>0</td>\n",
       "      <td>0.00</td>\n",
       "      <td>int64</td>\n",
       "    </tr>\n",
       "    <tr>\n",
       "      <th>CC54</th>\n",
       "      <td>5037.0</td>\n",
       "      <td>166.306730</td>\n",
       "      <td>304.472887</td>\n",
       "      <td>0.0</td>\n",
       "      <td>40.0</td>\n",
       "      <td>60.0</td>\n",
       "      <td>90.0</td>\n",
       "      <td>999.0</td>\n",
       "      <td>0</td>\n",
       "      <td>0.00</td>\n",
       "      <td>int64</td>\n",
       "    </tr>\n",
       "    <tr>\n",
       "      <th>CC55</th>\n",
       "      <td>5037.0</td>\n",
       "      <td>136.289259</td>\n",
       "      <td>319.041986</td>\n",
       "      <td>0.0</td>\n",
       "      <td>0.0</td>\n",
       "      <td>20.0</td>\n",
       "      <td>40.0</td>\n",
       "      <td>999.0</td>\n",
       "      <td>0</td>\n",
       "      <td>0.00</td>\n",
       "      <td>int64</td>\n",
       "    </tr>\n",
       "  </tbody>\n",
       "</table>\n",
       "<p>229 rows × 11 columns</p>\n",
       "</div>"
      ],
      "text/plain": [
       "       count        mean         std   min   25%   50%   75%    max  nulos  \\\n",
       "M1     128.0    2.343750    1.961991   1.0   1.0   1.0   5.0    9.0   4909   \n",
       "M1A     42.0    1.666667    0.477119   1.0   1.0   2.0   2.0    2.0   4995   \n",
       "M3      86.0    2.383721    1.977334   1.0   1.0   1.0   5.0    8.0   4951   \n",
       "M3A     57.0   94.245614  250.709798  12.0  19.0  26.0  36.0  998.0   4980   \n",
       "M3B1    57.0   93.157895  283.180961   1.0   2.0   4.0   8.0  998.0   4980   \n",
       "...      ...         ...         ...   ...   ...   ...   ...    ...    ...   \n",
       "CC51  5037.0    1.530673    1.044912   1.0   1.0   1.0   2.0    8.0      0   \n",
       "CC52  5037.0    1.792535    1.207617   1.0   1.0   1.0   2.0    9.0      0   \n",
       "CC53  5037.0    3.573556    0.977507   1.0   3.0   4.0   4.0    9.0      0   \n",
       "CC54  5037.0  166.306730  304.472887   0.0  40.0  60.0  90.0  999.0      0   \n",
       "CC55  5037.0  136.289259  319.041986   0.0   0.0  20.0  40.0  999.0      0   \n",
       "\n",
       "      prct_nulo     type  \n",
       "M1        97.46  float64  \n",
       "M1A       99.17  float64  \n",
       "M3        98.29  float64  \n",
       "M3A       98.87  float64  \n",
       "M3B1      98.87  float64  \n",
       "...         ...      ...  \n",
       "CC51       0.00    int64  \n",
       "CC52       0.00    int64  \n",
       "CC53       0.00    int64  \n",
       "CC54       0.00    int64  \n",
       "CC55       0.00    int64  \n",
       "\n",
       "[229 rows x 11 columns]"
      ]
     },
     "execution_count": 8,
     "metadata": {},
     "output_type": "execute_result"
    }
   ],
   "source": [
    "dataset_T = dataset.describe(include=\"all\").T\n",
    "dataset_T['nulos'] = pd.DataFrame(dataset.isnull().sum())\n",
    "dataset_T['prct_nulo'] = pd.DataFrame(dataset.isna().mean().round(4) * 100)\n",
    "dataset_T[\"type\"] = pd.Series(dataset.dtypes)\n",
    "dataset_T"
   ]
  },
  {
   "cell_type": "code",
   "execution_count": 9,
   "metadata": {},
   "outputs": [
    {
     "data": {
      "text/plain": [
       "<AxesSubplot:>"
      ]
     },
     "execution_count": 9,
     "metadata": {},
     "output_type": "execute_result"
    },
    {
     "data": {
      "image/png": "[encoded data removed]",
      "text/plain": [
       "<Figure size 1440x360 with 1 Axes>"
      ]
     },
     "metadata": {
      "needs_background": "light"
     },
     "output_type": "display_data"
    }
   ],
   "source": [
    "fig, ax = pyplot.subplots(figsize=(20,5))\n",
    "sns.heatmap(dataset.isnull(),\n",
    "           yticklabels=False,\n",
    "           cbar=False,\n",
    "           cmap='viridis',\n",
    "           ax=ax)"
   ]
  },
  {
   "cell_type": "markdown",
   "metadata": {},
   "source": [
    "Podemos observar que existem bastante valores nulos (representados em amarelo)."
   ]
  },
  {
   "cell_type": "markdown",
   "metadata": {},
   "source": [
    "#### Verificando valores duplicados"
   ]
  },
  {
   "cell_type": "code",
   "execution_count": 10,
   "metadata": {},
   "outputs": [
    {
     "data": {
      "text/plain": [
       "0       False\n",
       "1       False\n",
       "2       False\n",
       "3       False\n",
       "4       False\n",
       "        ...  \n",
       "5032    False\n",
       "5033    False\n",
       "5034    False\n",
       "5035    False\n",
       "5036    False\n",
       "Length: 5037, dtype: bool"
      ]
     },
     "execution_count": 10,
     "metadata": {},
     "output_type": "execute_result"
    }
   ],
   "source": [
    "dataset.duplicated()"
   ]
  },
  {
   "cell_type": "markdown",
   "metadata": {},
   "source": [
    "A princípio não existem registros duplicados."
   ]
  },
  {
   "cell_type": "markdown",
   "metadata": {},
   "source": [
    "#### Visualizando atributo alvo"
   ]
  },
  {
   "cell_type": "code",
   "execution_count": 11,
   "metadata": {
    "scrolled": true
   },
   "outputs": [
    {
     "data": {
      "text/plain": [
       "<AxesSubplot:xlabel='dsm_man'>"
      ]
     },
     "execution_count": 11,
     "metadata": {},
     "output_type": "execute_result"
    },
    {
     "data": {
      "image/png": "[encoded data removed]",
      "text/plain": [
       "<Figure size 432x288 with 1 Axes>"
      ]
     },
     "metadata": {
      "needs_background": "light"
     },
     "output_type": "display_data"
    }
   ],
   "source": [
    "dataset.groupby('dsm_man').size().plot.bar()"
   ]
  },
  {
   "cell_type": "markdown",
   "metadata": {},
   "source": [
    "Podemos notar que o dataset possui muitos exemplos da classe 1 (sim) e poucos exemplos da classe 2 (não), precisaremos utilizar técnicas de balanceamento ou enriquecimento de dados para tratar a situação."
   ]
  },
  {
   "cell_type": "code",
   "execution_count": 12,
   "metadata": {},
   "outputs": [],
   "source": [
    "dataset_mania_1 = dataset[dataset['dsm_man'] == 1]"
   ]
  },
  {
   "cell_type": "code",
   "execution_count": 13,
   "metadata": {
    "scrolled": true
   },
   "outputs": [
    {
     "data": {
      "text/plain": [
       "<AxesSubplot:>"
      ]
     },
     "execution_count": 13,
     "metadata": {},
     "output_type": "execute_result"
    },
    {
     "data": {
      "image/png": "[encoded data removed]",
      "text/plain": [
       "<Figure size 1440x360 with 1 Axes>"
      ]
     },
     "metadata": {
      "needs_background": "light"
     },
     "output_type": "display_data"
    }
   ],
   "source": [
    "fig, ax = pyplot.subplots(figsize=(20,5))\n",
    "sns.heatmap(dataset_mania_1.isnull(),\n",
    "           yticklabels=False,\n",
    "           cbar=False,\n",
    "           cmap='viridis',\n",
    "           ax=ax)"
   ]
  },
  {
   "cell_type": "markdown",
   "metadata": {},
   "source": [
    "### Tratando valores nulos"
   ]
  },
  {
   "cell_type": "markdown",
   "metadata": {},
   "source": [
    "#### Excluindo registros com mais 75% de valores nulos"
   ]
  },
  {
   "cell_type": "code",
   "execution_count": 14,
   "metadata": {},
   "outputs": [],
   "source": [
    "dataset_t = dataset.copy()\n",
    "dataset_t.drop([col for col, val in (dataset_t.isna().mean().round(4)*100).iteritems() if val > 75], axis=1, inplace=True)"
   ]
  },
  {
   "cell_type": "code",
   "execution_count": 15,
   "metadata": {},
   "outputs": [
    {
     "data": {
      "text/plain": [
       "<AxesSubplot:>"
      ]
     },
     "execution_count": 15,
     "metadata": {},
     "output_type": "execute_result"
    },
    {
     "data": {
      "image/png": "[encoded data removed]",
      "text/plain": [
       "<Figure size 1440x360 with 1 Axes>"
      ]
     },
     "metadata": {
      "needs_background": "light"
     },
     "output_type": "display_data"
    }
   ],
   "source": [
    "fig, ax = pyplot.subplots(figsize=(20,5))\n",
    "sns.heatmap(dataset_t.isnull(),\n",
    "           yticklabels=False,\n",
    "           cbar=False,\n",
    "           cmap='viridis',\n",
    "           ax=ax)"
   ]
  },
  {
   "cell_type": "markdown",
   "metadata": {},
   "source": [
    "Percebemos que todas as colunas de M foram retiradas, então talvez não seja a melhor abordagem a se fazer."
   ]
  },
  {
   "cell_type": "markdown",
   "metadata": {},
   "source": [
    "#### Tentando analisar individualmente (M, SC e CC)"
   ]
  },
  {
   "cell_type": "code",
   "execution_count": 16,
   "metadata": {},
   "outputs": [],
   "source": [
    "dataset_M = dataset.copy()\n",
    "dataset_SC = dataset.copy()\n",
    "dataset_CC = dataset.copy()\n",
    "\n",
    "for label, content in dataset_M.items():\n",
    "    if label[0] != 'M' and label[0] != 'd':\n",
    "        dataset_M.drop([label], axis=1, inplace=True)\n",
    "for label, content in dataset_SC.items():\n",
    "    if label[0] != 'S' and label[0] != 'd':\n",
    "        dataset_SC.drop([label], axis=1, inplace=True)\n",
    "for label, content in dataset_CC.items():\n",
    "    if label[0] != 'C' and label[0] != 'd':\n",
    "        dataset_CC.drop([label], axis=1, inplace=True)"
   ]
  },
  {
   "cell_type": "markdown",
   "metadata": {},
   "source": [
    "#### Visualizando valores nulos em M"
   ]
  },
  {
   "cell_type": "code",
   "execution_count": 17,
   "metadata": {},
   "outputs": [
    {
     "data": {
      "text/plain": [
       "<AxesSubplot:>"
      ]
     },
     "execution_count": 17,
     "metadata": {},
     "output_type": "execute_result"
    },
    {
     "data": {
      "image/png": "[encoded data removed]",
      "text/plain": [
       "<Figure size 1440x360 with 1 Axes>"
      ]
     },
     "metadata": {
      "needs_background": "light"
     },
     "output_type": "display_data"
    }
   ],
   "source": [
    "fig, ax = pyplot.subplots(figsize=(20,5))\n",
    "sns.heatmap(dataset_M.isnull(),\n",
    "           yticklabels=False,\n",
    "           cbar=False,\n",
    "           cmap='viridis',\n",
    "           ax=ax)"
   ]
  },
  {
   "cell_type": "markdown",
   "metadata": {},
   "source": [
    "#### Preenchendo valores nulos em M\n",
    "\n",
    "Neste dataset, as perguntas feitas pelo entrevistador podem mudar conforme as respostas dos entrevistados. Este fato se dá pois, ao obter determinada informação, o entrevistador realiza o diagnostico do entrevistado e procura fazer perguntas mais específicas para ter a possibilidade de detectar, por exemplo, um transtorno comum.\n",
    "\n",
    "Com base nessas informações, vamos atribuir o valor 0 nos registros que não possuem valores."
   ]
  },
  {
   "cell_type": "code",
   "execution_count": 18,
   "metadata": {},
   "outputs": [],
   "source": [
    "dataset_M = dataset_M.fillna(0)"
   ]
  },
  {
   "cell_type": "markdown",
   "metadata": {},
   "source": [
    "#### Visualizando valores nulos em M"
   ]
  },
  {
   "cell_type": "code",
   "execution_count": 19,
   "metadata": {},
   "outputs": [
    {
     "data": {
      "text/plain": [
       "<AxesSubplot:>"
      ]
     },
     "execution_count": 19,
     "metadata": {},
     "output_type": "execute_result"
    },
    {
     "data": {
      "image/png": "[encoded data removed]",
      "text/plain": [
       "<Figure size 1440x360 with 1 Axes>"
      ]
     },
     "metadata": {
      "needs_background": "light"
     },
     "output_type": "display_data"
    }
   ],
   "source": [
    "fig, ax = pyplot.subplots(figsize=(20,5))\n",
    "sns.heatmap(dataset_M.isnull(),\n",
    "           yticklabels=False,\n",
    "           cbar=False,\n",
    "           cmap='viridis',\n",
    "           ax=ax)"
   ]
  },
  {
   "cell_type": "markdown",
   "metadata": {},
   "source": [
    "#### Visualizando valores nulos em SC"
   ]
  },
  {
   "cell_type": "code",
   "execution_count": 20,
   "metadata": {
    "scrolled": true
   },
   "outputs": [
    {
     "data": {
      "text/plain": [
       "<AxesSubplot:>"
      ]
     },
     "execution_count": 20,
     "metadata": {},
     "output_type": "execute_result"
    },
    {
     "data": {
      "image/png": "[encoded data removed]",
      "text/plain": [
       "<Figure size 1440x360 with 1 Axes>"
      ]
     },
     "metadata": {
      "needs_background": "light"
     },
     "output_type": "display_data"
    }
   ],
   "source": [
    "fig, ax = pyplot.subplots(figsize=(20,5))\n",
    "sns.heatmap(dataset_SC.isnull(),\n",
    "           yticklabels=False,\n",
    "           cbar=False,\n",
    "           cmap='viridis',\n",
    "           ax=ax)"
   ]
  },
  {
   "cell_type": "markdown",
   "metadata": {},
   "source": [
    "#### Excluindo colunas em SC com pelo menos 1 valor nulo\n",
    "\n",
    "Como ainda não possuimos muitas informações sobre a importância desses registros, vamos excluir colunas que possuem pelo menos 1 valor nulo."
   ]
  },
  {
   "cell_type": "code",
   "execution_count": 21,
   "metadata": {},
   "outputs": [],
   "source": [
    "dataset_SC = dataset_SC.dropna(axis='columns')"
   ]
  },
  {
   "cell_type": "markdown",
   "metadata": {},
   "source": [
    "#### Visualizando valores nulos em SC"
   ]
  },
  {
   "cell_type": "code",
   "execution_count": 22,
   "metadata": {},
   "outputs": [
    {
     "data": {
      "text/plain": [
       "<AxesSubplot:>"
      ]
     },
     "execution_count": 22,
     "metadata": {},
     "output_type": "execute_result"
    },
    {
     "data": {
      "image/png": "[encoded data removed]",
      "text/plain": [
       "<Figure size 1440x360 with 1 Axes>"
      ]
     },
     "metadata": {
      "needs_background": "light"
     },
     "output_type": "display_data"
    }
   ],
   "source": [
    "fig, ax = pyplot.subplots(figsize=(20,5))\n",
    "sns.heatmap(dataset_SC.isnull(),\n",
    "           yticklabels=False,\n",
    "           cbar=False,\n",
    "           cmap='viridis',\n",
    "           ax=ax)"
   ]
  },
  {
   "cell_type": "markdown",
   "metadata": {},
   "source": [
    "#### Visualizando valores nulos em CC\n",
    "\n",
    "Assim como na análise anterior, como ainda não possuimos muitas informações sobre a importância desses registros, vamos excluir colunas que possuem pelo menos 1 valor nulo."
   ]
  },
  {
   "cell_type": "code",
   "execution_count": 23,
   "metadata": {},
   "outputs": [
    {
     "data": {
      "text/plain": [
       "<AxesSubplot:>"
      ]
     },
     "execution_count": 23,
     "metadata": {},
     "output_type": "execute_result"
    },
    {
     "data": {
      "image/png": "[encoded data removed]",
      "text/plain": [
       "<Figure size 1440x360 with 1 Axes>"
      ]
     },
     "metadata": {
      "needs_background": "light"
     },
     "output_type": "display_data"
    }
   ],
   "source": [
    "fig, ax = pyplot.subplots(figsize=(20,5))\n",
    "sns.heatmap(dataset_CC.isnull(),\n",
    "           yticklabels=False,\n",
    "           cbar=False,\n",
    "           cmap='viridis',\n",
    "           ax=ax)"
   ]
  },
  {
   "cell_type": "markdown",
   "metadata": {},
   "source": [
    "#### Excluindo colunas em CC com pelo menos 1 valor nulo"
   ]
  },
  {
   "cell_type": "code",
   "execution_count": 24,
   "metadata": {},
   "outputs": [],
   "source": [
    "dataset_CC = dataset_CC.dropna(axis='columns')"
   ]
  },
  {
   "cell_type": "markdown",
   "metadata": {},
   "source": [
    "#### Visualizando valores nulos em CC"
   ]
  },
  {
   "cell_type": "code",
   "execution_count": 25,
   "metadata": {
    "scrolled": true
   },
   "outputs": [
    {
     "data": {
      "text/plain": [
       "<AxesSubplot:>"
      ]
     },
     "execution_count": 25,
     "metadata": {},
     "output_type": "execute_result"
    },
    {
     "data": {
      "image/png": "[encoded data removed]",
      "text/plain": [
       "<Figure size 1440x360 with 1 Axes>"
      ]
     },
     "metadata": {
      "needs_background": "light"
     },
     "output_type": "display_data"
    }
   ],
   "source": [
    "fig, ax = pyplot.subplots(figsize=(20,5))\n",
    "sns.heatmap(dataset_CC.isnull(),\n",
    "           yticklabels=False,\n",
    "           cbar=False,\n",
    "           cmap='viridis',\n",
    "           ax=ax)"
   ]
  },
  {
   "cell_type": "markdown",
   "metadata": {},
   "source": [
    "## 4. Análise Exploratória do Dataset"
   ]
  },
  {
   "cell_type": "markdown",
   "metadata": {},
   "source": [
    "#### Análise em CC com Pandas Profile"
   ]
  },
  {
   "cell_type": "code",
   "execution_count": 26,
   "metadata": {},
   "outputs": [
    {
     "data": {
      "application/vnd.jupyter.widget-view+json": {
       "model_id": "4e6f4ef5df014c4289176213fa918659",
       "version_major": 2,
       "version_minor": 0
      },
      "text/plain": [
       "Summarize dataset:   0%|          | 0/59 [00:00<?, ?it/s]"
      ]
     },
     "metadata": {},
     "output_type": "display_data"
    },
    {
     "data": {
      "application/vnd.jupyter.widget-view+json": {
       "model_id": "bf49d62c13ec42818f17a2f10a32ccad",
       "version_major": 2,
       "version_minor": 0
      },
      "text/plain": [
       "Generate report structure:   0%|          | 0/1 [00:00<?, ?it/s]"
      ]
     },
     "metadata": {},
     "output_type": "display_data"
    },
    {
     "data": {
      "application/vnd.jupyter.widget-view+json": {
       "model_id": "92c788835aa4495d866797dab013f424",
       "version_major": 2,
       "version_minor": 0
      },
      "text/plain": [
       "Render HTML:   0%|          | 0/1 [00:00<?, ?it/s]"
      ]
     },
     "metadata": {},
     "output_type": "display_data"
    },
    {
     "data": {
      "application/vnd.jupyter.widget-view+json": {
       "model_id": "4a14a06412b54dda90130f41e2c5fb90",
       "version_major": 2,
       "version_minor": 0
      },
      "text/plain": [
       "Export report to file:   0%|          | 0/1 [00:00<?, ?it/s]"
      ]
     },
     "metadata": {},
     "output_type": "display_data"
    }
   ],
   "source": [
    "profile = ProfileReport(dataset_CC, title='Pandas Profile Report')\n",
    "profile.to_file(\"output_report_prom_profile.html\")"
   ]
  },
  {
   "cell_type": "code",
   "execution_count": 27,
   "metadata": {},
   "outputs": [
    {
     "data": {
      "application/vnd.jupyter.widget-view+json": {
       "model_id": "",
       "version_major": 2,
       "version_minor": 0
      },
      "text/plain": [
       "Render widgets:   0%|          | 0/1 [00:00<?, ?it/s]"
      ]
     },
     "metadata": {},
     "output_type": "display_data"
    },
    {
     "data": {
      "application/vnd.jupyter.widget-view+json": {
       "model_id": "cae9fe55be954248b7293843ab43d968",
       "version_major": 2,
       "version_minor": 0
      },
      "text/plain": [
       "VBox(children=(Tab(children=(Tab(children=(GridBox(children=(VBox(children=(GridspecLayout(children=(HTML(valu…"
      ]
     },
     "metadata": {},
     "output_type": "display_data"
    }
   ],
   "source": [
    "profile.to_widgets()"
   ]
  },
  {
   "cell_type": "markdown",
   "metadata": {},
   "source": [
    "#### Análise em SC com Pandas Profile"
   ]
  },
  {
   "cell_type": "code",
   "execution_count": 28,
   "metadata": {},
   "outputs": [
    {
     "data": {
      "application/vnd.jupyter.widget-view+json": {
       "model_id": "011b2ba4fb4d4747820722b4c173bb33",
       "version_major": 2,
       "version_minor": 0
      },
      "text/plain": [
       "Summarize dataset:   0%|          | 0/47 [00:00<?, ?it/s]"
      ]
     },
     "metadata": {},
     "output_type": "display_data"
    },
    {
     "data": {
      "application/vnd.jupyter.widget-view+json": {
       "model_id": "27225d419a3a454db477a0ad9db7620e",
       "version_major": 2,
       "version_minor": 0
      },
      "text/plain": [
       "Generate report structure:   0%|          | 0/1 [00:00<?, ?it/s]"
      ]
     },
     "metadata": {},
     "output_type": "display_data"
    },
    {
     "data": {
      "application/vnd.jupyter.widget-view+json": {
       "model_id": "7fa395cb15cf47a98ab877c75152c9b7",
       "version_major": 2,
       "version_minor": 0
      },
      "text/plain": [
       "Render HTML:   0%|          | 0/1 [00:00<?, ?it/s]"
      ]
     },
     "metadata": {},
     "output_type": "display_data"
    },
    {
     "data": {
      "application/vnd.jupyter.widget-view+json": {
       "model_id": "1dd4c41d86c14f02af919b15da8c94a3",
       "version_major": 2,
       "version_minor": 0
      },
      "text/plain": [
       "Export report to file:   0%|          | 0/1 [00:00<?, ?it/s]"
      ]
     },
     "metadata": {},
     "output_type": "display_data"
    }
   ],
   "source": [
    "profile = ProfileReport(dataset_SC, title='Pandas Profile Report')\n",
    "profile.to_file(\"output_report_prom_profile.html\")"
   ]
  },
  {
   "cell_type": "code",
   "execution_count": 29,
   "metadata": {},
   "outputs": [
    {
     "data": {
      "application/vnd.jupyter.widget-view+json": {
       "model_id": "",
       "version_major": 2,
       "version_minor": 0
      },
      "text/plain": [
       "Render widgets:   0%|          | 0/1 [00:00<?, ?it/s]"
      ]
     },
     "metadata": {},
     "output_type": "display_data"
    },
    {
     "data": {
      "application/vnd.jupyter.widget-view+json": {
       "model_id": "3c32e520a9e643ae892ec5a2e2261829",
       "version_major": 2,
       "version_minor": 0
      },
      "text/plain": [
       "VBox(children=(Tab(children=(Tab(children=(GridBox(children=(VBox(children=(GridspecLayout(children=(HTML(valu…"
      ]
     },
     "metadata": {},
     "output_type": "display_data"
    }
   ],
   "source": [
    "profile.to_widgets()"
   ]
  },
  {
   "cell_type": "markdown",
   "metadata": {},
   "source": [
    "#### Análise em CC com Sweetviz"
   ]
  },
  {
   "cell_type": "code",
   "execution_count": 30,
   "metadata": {},
   "outputs": [
    {
     "data": {
      "application/vnd.jupyter.widget-view+json": {
       "model_id": "a6794a1d7a3c4900b3b92ab71f8b3238",
       "version_major": 2,
       "version_minor": 0
      },
      "text/plain": [
       "                                             |                                             | [  0%]   00:00 ->…"
      ]
     },
     "metadata": {},
     "output_type": "display_data"
    },
    {
     "name": "stdout",
     "output_type": "stream",
     "text": [
      "Report Sweetviz_report_objective.html was generated! NOTEBOOK/COLAB USERS: the web browser MAY not pop up, regardless, the report IS saved in your notebook/colab files.\n"
     ]
    }
   ],
   "source": [
    "feature_config = sv.FeatureConfig(force_num=[\"dsm_man\"])\n",
    "my_report = sv.analyze(dataset_CC, target_feat=\"dsm_man\", feat_cfg=feature_config)\n",
    "my_report.show_html(filepath='Sweetviz_report_objective.html')"
   ]
  },
  {
   "cell_type": "markdown",
   "metadata": {},
   "source": [
    "#### Análise em SC com Sweetviz"
   ]
  },
  {
   "cell_type": "code",
   "execution_count": 31,
   "metadata": {},
   "outputs": [
    {
     "data": {
      "application/vnd.jupyter.widget-view+json": {
       "model_id": "c1e347476f664279962989d7f67c3ca4",
       "version_major": 2,
       "version_minor": 0
      },
      "text/plain": [
       "                                             |                                             | [  0%]   00:00 ->…"
      ]
     },
     "metadata": {},
     "output_type": "display_data"
    },
    {
     "name": "stdout",
     "output_type": "stream",
     "text": [
      "Report Sweetviz_report_objective.html was generated! NOTEBOOK/COLAB USERS: the web browser MAY not pop up, regardless, the report IS saved in your notebook/colab files.\n"
     ]
    }
   ],
   "source": [
    "feature_config = sv.FeatureConfig(force_num=[\"dsm_man\"])\n",
    "my_report = sv.analyze(dataset_SC, target_feat=\"dsm_man\", feat_cfg=feature_config)\n",
    "my_report.show_html(filepath='Sweetviz_report_objective.html')"
   ]
  },
  {
   "cell_type": "markdown",
   "metadata": {},
   "source": [
    "#### Análise em M com Sweetviz"
   ]
  },
  {
   "cell_type": "code",
   "execution_count": 32,
   "metadata": {},
   "outputs": [
    {
     "data": {
      "application/vnd.jupyter.widget-view+json": {
       "model_id": "d698bbe3e84346b7aa4cf33f776ef797",
       "version_major": 2,
       "version_minor": 0
      },
      "text/plain": [
       "                                             |                                             | [  0%]   00:00 ->…"
      ]
     },
     "metadata": {},
     "output_type": "display_data"
    },
    {
     "name": "stdout",
     "output_type": "stream",
     "text": [
      "Report Sweetviz_report_objective.html was generated! NOTEBOOK/COLAB USERS: the web browser MAY not pop up, regardless, the report IS saved in your notebook/colab files.\n"
     ]
    }
   ],
   "source": [
    "feature_config = sv.FeatureConfig(force_num=[\"dsm_man\"])\n",
    "my_report = sv.analyze(dataset_M, target_feat=\"dsm_man\", feat_cfg=feature_config)\n",
    "my_report.show_html(filepath='Sweetviz_report_objective.html')"
   ]
  },
  {
   "cell_type": "markdown",
   "metadata": {},
   "source": [
    "#### Agrupando M, SC e CC após tratamento"
   ]
  },
  {
   "cell_type": "code",
   "execution_count": 33,
   "metadata": {},
   "outputs": [],
   "source": [
    "dataset_CC.drop('dsm_man', axis=1, inplace=True)\n",
    "dataset_SC.drop('dsm_man', axis=1, inplace=True)"
   ]
  },
  {
   "cell_type": "code",
   "execution_count": 34,
   "metadata": {},
   "outputs": [
    {
     "data": {
      "text/html": [
       "<div>\n",
       "<style scoped>\n",
       "    .dataframe tbody tr th:only-of-type {\n",
       "        vertical-align: middle;\n",
       "    }\n",
       "\n",
       "    .dataframe tbody tr th {\n",
       "        vertical-align: top;\n",
       "    }\n",
       "\n",
       "    .dataframe thead th {\n",
       "        text-align: right;\n",
       "    }\n",
       "</style>\n",
       "<table border=\"1\" class=\"dataframe\">\n",
       "  <thead>\n",
       "    <tr style=\"text-align: right;\">\n",
       "      <th></th>\n",
       "      <th>SC1</th>\n",
       "      <th>SC1_1</th>\n",
       "      <th>SC2</th>\n",
       "      <th>SC3</th>\n",
       "      <th>SC7</th>\n",
       "      <th>SC8_1</th>\n",
       "      <th>SC8_2</th>\n",
       "      <th>SC9</th>\n",
       "      <th>SC19</th>\n",
       "      <th>SC20</th>\n",
       "      <th>...</th>\n",
       "      <th>M45A</th>\n",
       "      <th>M45B</th>\n",
       "      <th>M45C</th>\n",
       "      <th>M47</th>\n",
       "      <th>M48</th>\n",
       "      <th>M48A</th>\n",
       "      <th>M48_1</th>\n",
       "      <th>M54</th>\n",
       "      <th>M55</th>\n",
       "      <th>dsm_man</th>\n",
       "    </tr>\n",
       "  </thead>\n",
       "  <tbody>\n",
       "    <tr>\n",
       "      <th>0</th>\n",
       "      <td>56</td>\n",
       "      <td>2</td>\n",
       "      <td>14</td>\n",
       "      <td>4</td>\n",
       "      <td>3</td>\n",
       "      <td>4</td>\n",
       "      <td>4</td>\n",
       "      <td>2</td>\n",
       "      <td>1</td>\n",
       "      <td>1</td>\n",
       "      <td>...</td>\n",
       "      <td>0.0</td>\n",
       "      <td>0.0</td>\n",
       "      <td>0.0</td>\n",
       "      <td>0.0</td>\n",
       "      <td>0.0</td>\n",
       "      <td>0.0</td>\n",
       "      <td>0.0</td>\n",
       "      <td>1.0</td>\n",
       "      <td>0.0</td>\n",
       "      <td>5</td>\n",
       "    </tr>\n",
       "    <tr>\n",
       "      <th>1</th>\n",
       "      <td>51</td>\n",
       "      <td>2</td>\n",
       "      <td>24</td>\n",
       "      <td>1</td>\n",
       "      <td>3</td>\n",
       "      <td>4</td>\n",
       "      <td>2</td>\n",
       "      <td>1</td>\n",
       "      <td>1</td>\n",
       "      <td>1</td>\n",
       "      <td>...</td>\n",
       "      <td>0.0</td>\n",
       "      <td>0.0</td>\n",
       "      <td>0.0</td>\n",
       "      <td>0.0</td>\n",
       "      <td>0.0</td>\n",
       "      <td>0.0</td>\n",
       "      <td>0.0</td>\n",
       "      <td>1.0</td>\n",
       "      <td>0.0</td>\n",
       "      <td>5</td>\n",
       "    </tr>\n",
       "    <tr>\n",
       "      <th>2</th>\n",
       "      <td>38</td>\n",
       "      <td>2</td>\n",
       "      <td>4</td>\n",
       "      <td>5</td>\n",
       "      <td>2</td>\n",
       "      <td>5</td>\n",
       "      <td>4</td>\n",
       "      <td>5</td>\n",
       "      <td>1</td>\n",
       "      <td>1</td>\n",
       "      <td>...</td>\n",
       "      <td>0.0</td>\n",
       "      <td>0.0</td>\n",
       "      <td>0.0</td>\n",
       "      <td>0.0</td>\n",
       "      <td>0.0</td>\n",
       "      <td>0.0</td>\n",
       "      <td>1.0</td>\n",
       "      <td>1.0</td>\n",
       "      <td>0.0</td>\n",
       "      <td>1</td>\n",
       "    </tr>\n",
       "    <tr>\n",
       "      <th>3</th>\n",
       "      <td>43</td>\n",
       "      <td>1</td>\n",
       "      <td>5</td>\n",
       "      <td>1</td>\n",
       "      <td>2</td>\n",
       "      <td>5</td>\n",
       "      <td>4</td>\n",
       "      <td>1</td>\n",
       "      <td>1</td>\n",
       "      <td>1</td>\n",
       "      <td>...</td>\n",
       "      <td>42.0</td>\n",
       "      <td>2.0</td>\n",
       "      <td>0.0</td>\n",
       "      <td>5.0</td>\n",
       "      <td>5.0</td>\n",
       "      <td>0.0</td>\n",
       "      <td>0.0</td>\n",
       "      <td>1.0</td>\n",
       "      <td>0.0</td>\n",
       "      <td>1</td>\n",
       "    </tr>\n",
       "    <tr>\n",
       "      <th>4</th>\n",
       "      <td>45</td>\n",
       "      <td>1</td>\n",
       "      <td>9</td>\n",
       "      <td>1</td>\n",
       "      <td>3</td>\n",
       "      <td>2</td>\n",
       "      <td>1</td>\n",
       "      <td>1</td>\n",
       "      <td>1</td>\n",
       "      <td>1</td>\n",
       "      <td>...</td>\n",
       "      <td>0.0</td>\n",
       "      <td>0.0</td>\n",
       "      <td>0.0</td>\n",
       "      <td>0.0</td>\n",
       "      <td>0.0</td>\n",
       "      <td>0.0</td>\n",
       "      <td>0.0</td>\n",
       "      <td>1.0</td>\n",
       "      <td>0.0</td>\n",
       "      <td>1</td>\n",
       "    </tr>\n",
       "    <tr>\n",
       "      <th>...</th>\n",
       "      <td>...</td>\n",
       "      <td>...</td>\n",
       "      <td>...</td>\n",
       "      <td>...</td>\n",
       "      <td>...</td>\n",
       "      <td>...</td>\n",
       "      <td>...</td>\n",
       "      <td>...</td>\n",
       "      <td>...</td>\n",
       "      <td>...</td>\n",
       "      <td>...</td>\n",
       "      <td>...</td>\n",
       "      <td>...</td>\n",
       "      <td>...</td>\n",
       "      <td>...</td>\n",
       "      <td>...</td>\n",
       "      <td>...</td>\n",
       "      <td>...</td>\n",
       "      <td>...</td>\n",
       "      <td>...</td>\n",
       "      <td>...</td>\n",
       "    </tr>\n",
       "    <tr>\n",
       "      <th>5032</th>\n",
       "      <td>40</td>\n",
       "      <td>2</td>\n",
       "      <td>3</td>\n",
       "      <td>1</td>\n",
       "      <td>2</td>\n",
       "      <td>3</td>\n",
       "      <td>2</td>\n",
       "      <td>2</td>\n",
       "      <td>1</td>\n",
       "      <td>5</td>\n",
       "      <td>...</td>\n",
       "      <td>0.0</td>\n",
       "      <td>0.0</td>\n",
       "      <td>0.0</td>\n",
       "      <td>0.0</td>\n",
       "      <td>0.0</td>\n",
       "      <td>0.0</td>\n",
       "      <td>0.0</td>\n",
       "      <td>0.0</td>\n",
       "      <td>0.0</td>\n",
       "      <td>5</td>\n",
       "    </tr>\n",
       "    <tr>\n",
       "      <th>5033</th>\n",
       "      <td>24</td>\n",
       "      <td>1</td>\n",
       "      <td>16</td>\n",
       "      <td>5</td>\n",
       "      <td>1</td>\n",
       "      <td>1</td>\n",
       "      <td>1</td>\n",
       "      <td>2</td>\n",
       "      <td>1</td>\n",
       "      <td>5</td>\n",
       "      <td>...</td>\n",
       "      <td>0.0</td>\n",
       "      <td>0.0</td>\n",
       "      <td>0.0</td>\n",
       "      <td>0.0</td>\n",
       "      <td>0.0</td>\n",
       "      <td>0.0</td>\n",
       "      <td>0.0</td>\n",
       "      <td>0.0</td>\n",
       "      <td>0.0</td>\n",
       "      <td>5</td>\n",
       "    </tr>\n",
       "    <tr>\n",
       "      <th>5034</th>\n",
       "      <td>57</td>\n",
       "      <td>2</td>\n",
       "      <td>1</td>\n",
       "      <td>5</td>\n",
       "      <td>2</td>\n",
       "      <td>3</td>\n",
       "      <td>2</td>\n",
       "      <td>2</td>\n",
       "      <td>1</td>\n",
       "      <td>5</td>\n",
       "      <td>...</td>\n",
       "      <td>0.0</td>\n",
       "      <td>0.0</td>\n",
       "      <td>0.0</td>\n",
       "      <td>0.0</td>\n",
       "      <td>0.0</td>\n",
       "      <td>0.0</td>\n",
       "      <td>0.0</td>\n",
       "      <td>0.0</td>\n",
       "      <td>0.0</td>\n",
       "      <td>5</td>\n",
       "    </tr>\n",
       "    <tr>\n",
       "      <th>5035</th>\n",
       "      <td>19</td>\n",
       "      <td>1</td>\n",
       "      <td>30</td>\n",
       "      <td>5</td>\n",
       "      <td>2</td>\n",
       "      <td>3</td>\n",
       "      <td>3</td>\n",
       "      <td>1</td>\n",
       "      <td>1</td>\n",
       "      <td>5</td>\n",
       "      <td>...</td>\n",
       "      <td>0.0</td>\n",
       "      <td>0.0</td>\n",
       "      <td>0.0</td>\n",
       "      <td>0.0</td>\n",
       "      <td>0.0</td>\n",
       "      <td>0.0</td>\n",
       "      <td>0.0</td>\n",
       "      <td>0.0</td>\n",
       "      <td>0.0</td>\n",
       "      <td>5</td>\n",
       "    </tr>\n",
       "    <tr>\n",
       "      <th>5036</th>\n",
       "      <td>38</td>\n",
       "      <td>2</td>\n",
       "      <td>14</td>\n",
       "      <td>3</td>\n",
       "      <td>2</td>\n",
       "      <td>2</td>\n",
       "      <td>2</td>\n",
       "      <td>4</td>\n",
       "      <td>1</td>\n",
       "      <td>5</td>\n",
       "      <td>...</td>\n",
       "      <td>0.0</td>\n",
       "      <td>0.0</td>\n",
       "      <td>0.0</td>\n",
       "      <td>0.0</td>\n",
       "      <td>0.0</td>\n",
       "      <td>0.0</td>\n",
       "      <td>0.0</td>\n",
       "      <td>0.0</td>\n",
       "      <td>0.0</td>\n",
       "      <td>5</td>\n",
       "    </tr>\n",
       "  </tbody>\n",
       "</table>\n",
       "<p>5037 rows × 168 columns</p>\n",
       "</div>"
      ],
      "text/plain": [
       "      SC1  SC1_1  SC2  SC3  SC7  SC8_1  SC8_2  SC9  SC19  SC20  ...  M45A  \\\n",
       "0      56      2   14    4    3      4      4    2     1     1  ...   0.0   \n",
       "1      51      2   24    1    3      4      2    1     1     1  ...   0.0   \n",
       "2      38      2    4    5    2      5      4    5     1     1  ...   0.0   \n",
       "3      43      1    5    1    2      5      4    1     1     1  ...  42.0   \n",
       "4      45      1    9    1    3      2      1    1     1     1  ...   0.0   \n",
       "...   ...    ...  ...  ...  ...    ...    ...  ...   ...   ...  ...   ...   \n",
       "5032   40      2    3    1    2      3      2    2     1     5  ...   0.0   \n",
       "5033   24      1   16    5    1      1      1    2     1     5  ...   0.0   \n",
       "5034   57      2    1    5    2      3      2    2     1     5  ...   0.0   \n",
       "5035   19      1   30    5    2      3      3    1     1     5  ...   0.0   \n",
       "5036   38      2   14    3    2      2      2    4     1     5  ...   0.0   \n",
       "\n",
       "      M45B  M45C  M47  M48  M48A  M48_1  M54  M55  dsm_man  \n",
       "0      0.0   0.0  0.0  0.0   0.0    0.0  1.0  0.0        5  \n",
       "1      0.0   0.0  0.0  0.0   0.0    0.0  1.0  0.0        5  \n",
       "2      0.0   0.0  0.0  0.0   0.0    1.0  1.0  0.0        1  \n",
       "3      2.0   0.0  5.0  5.0   0.0    0.0  1.0  0.0        1  \n",
       "4      0.0   0.0  0.0  0.0   0.0    0.0  1.0  0.0        1  \n",
       "...    ...   ...  ...  ...   ...    ...  ...  ...      ...  \n",
       "5032   0.0   0.0  0.0  0.0   0.0    0.0  0.0  0.0        5  \n",
       "5033   0.0   0.0  0.0  0.0   0.0    0.0  0.0  0.0        5  \n",
       "5034   0.0   0.0  0.0  0.0   0.0    0.0  0.0  0.0        5  \n",
       "5035   0.0   0.0  0.0  0.0   0.0    0.0  0.0  0.0        5  \n",
       "5036   0.0   0.0  0.0  0.0   0.0    0.0  0.0  0.0        5  \n",
       "\n",
       "[5037 rows x 168 columns]"
      ]
     },
     "execution_count": 34,
     "metadata": {},
     "output_type": "execute_result"
    }
   ],
   "source": [
    "dataset_M_SC_CC = pd.concat([dataset_SC, dataset_CC, dataset_M], axis=1)\n",
    "dataset_M_SC_CC"
   ]
  },
  {
   "cell_type": "markdown",
   "metadata": {},
   "source": [
    "#### Análise em do conjunto de dados M, SC e CC tratados e agrupados com Sweetviz"
   ]
  },
  {
   "cell_type": "code",
   "execution_count": 35,
   "metadata": {},
   "outputs": [
    {
     "data": {
      "application/vnd.jupyter.widget-view+json": {
       "model_id": "635a685a91b840ed9bfb8400f0ec3572",
       "version_major": 2,
       "version_minor": 0
      },
      "text/plain": [
       "                                             |                                             | [  0%]   00:00 ->…"
      ]
     },
     "metadata": {},
     "output_type": "display_data"
    },
    {
     "name": "stdout",
     "output_type": "stream",
     "text": [
      "Report Sweetviz_report_objective.html was generated! NOTEBOOK/COLAB USERS: the web browser MAY not pop up, regardless, the report IS saved in your notebook/colab files.\n"
     ]
    }
   ],
   "source": [
    "feature_config = sv.FeatureConfig(force_num=[\"dsm_man\"])\n",
    "my_report = sv.analyze(dataset_M_SC_CC, target_feat=\"dsm_man\", feat_cfg=feature_config)\n",
    "my_report.show_html(filepath='Sweetviz_report_objective.html')"
   ]
  },
  {
   "cell_type": "markdown",
   "metadata": {},
   "source": [
    "## Considerações finais\n",
    "\n",
    "Técnicas que podem ser aplicadas para tentar melhorar resultados:\n",
    "- Balanceamento ou enriquecimento de dados do atributo alvo;\n",
    "- Utilização de técnicas de seleção de caracteríticas para selecionar melhores atributos;\n",
    "    - Nas análises com Sweetviz temos gráficos de correlações que podem ser usados;\n",
    "- Analisar atritutos individualmente para reduzir dimensionalidade."
   ]
  },
  {
   "cell_type": "markdown",
   "metadata": {},
   "source": [
    "# Testando predição"
   ]
  },
  {
   "cell_type": "code",
   "execution_count": 82,
   "metadata": {},
   "outputs": [
    {
     "name": "stdout",
     "output_type": "stream",
     "text": [
      "<class 'pandas.core.frame.DataFrame'>\n",
      "RangeIndex: 5037 entries, 0 to 5036\n",
      "Columns: 168 entries, SC1 to dsm_man\n",
      "dtypes: float64(89), int64(79)\n",
      "memory usage: 6.5 MB\n"
     ]
    }
   ],
   "source": [
    "dataset_M_SC_CC.info()"
   ]
  },
  {
   "cell_type": "code",
   "execution_count": 83,
   "metadata": {},
   "outputs": [
    {
     "name": "stdout",
     "output_type": "stream",
     "text": [
      "0.9986761980407731\n",
      "0.9904761904761905\n"
     ]
    },
    {
     "name": "stderr",
     "output_type": "stream",
     "text": [
      "c:\\estudo\\disciplinaslab\\venv\\lib\\site-packages\\sklearn\\linear_model\\_logistic.py:763: ConvergenceWarning: lbfgs failed to converge (status=1):\n",
      "STOP: TOTAL NO. of ITERATIONS REACHED LIMIT.\n",
      "\n",
      "Increase the number of iterations (max_iter) or scale the data as shown in:\n",
      "    https://scikit-learn.org/stable/modules/preprocessing.html\n",
      "Please also refer to the documentation for alternative solver options:\n",
      "    https://scikit-learn.org/stable/modules/linear_model.html#logistic-regression\n",
      "  n_iter_i = _check_optimize_result(\n"
     ]
    }
   ],
   "source": [
    "array = dataset_M_SC_CC.values\n",
    "X = array[:,0:167]\n",
    "y = array[:,167]\n",
    "X_train, X_validation, Y_train, Y_validation = train_test_split(X, y, test_size=0.25, random_state=0, shuffle=True)\n",
    "model = LogisticRegression()\n",
    "model.fit(X_train, Y_train)\n",
    "predictions_train = model.predict(X_train)\n",
    "predictions_validation = model.predict(X_validation)\n",
    "print(sklearn.metrics.accuracy_score(Y_train, predictions_train))\n",
    "print(sklearn.metrics.accuracy_score(Y_validation, predictions_validation))"
   ]
  },
  {
   "cell_type": "code",
   "execution_count": null,
   "metadata": {},
   "outputs": [],
   "source": []
  }
 ],
 "metadata": {
  "kernelspec": {
   "display_name": "venvkernel",
   "language": "python",
   "name": "venvkernel"
  },
  "language_info": {
   "codemirror_mode": {
    "name": "ipython",
    "version": 3
   },
   "file_extension": ".py",
   "mimetype": "text/x-python",
   "name": "python",
   "nbconvert_exporter": "python",
   "pygments_lexer": "ipython3",
   "version": "3.9.2"
  }
 },
 "nbformat": 4,
 "nbformat_minor": 4
}
